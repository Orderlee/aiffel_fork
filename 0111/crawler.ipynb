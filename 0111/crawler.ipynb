{
 "cells": [
  {
   "cell_type": "markdown",
   "id": "6447f58b",
   "metadata": {},
   "source": [
    "# 모델 성능 개선하기\n",
    "## 1. 형태소 분석기 변경해보기\n",
    "- 형태소 분석기간의 장단점이 무엇인지\n",
    "- 처리속도와 성능의 변화 비교\n",
    "## 2. 불용어 추가\n",
    "- 불용어가 50개가 될 떄까지 추가\n",
    "- 지나치게 빈도가 낮은 단어, 지나치게 빈도가 높은 단어 둘 중 어떤 단어가 불용ㅇ어로 선택할 경우 모델 성능 향상에 효과가 더 좋을지 고민\n",
    "## 3. 다른 날짜 데이터 추가\n",
    "- 2023 11 28 외의 날짜 추가 수집 후 어떻게 합칠까?\n",
    "- 데이터는 어떻게 섞을까?\n",
    "\n",
    "## Criteria\n",
    "- 형태소 분석기 선택과 불용어 제거가 체계적으로 진행됨\n",
    "- 일자와 분량에서 텍스트 에터 다양성 향상을 위한 노력이 확인됨\n",
    "- F-1 score 기준 83% 이상의 정확도가 확인됨"
   ]
  },
  {
   "cell_type": "code",
   "execution_count": 1,
   "id": "1d4e8909",
   "metadata": {},
   "outputs": [],
   "source": [
    "import requests\n",
    "import pandas as pd\n",
    "from bs4 import BeautifulSoup\n",
    "import time\n",
    "\n",
    "# 페이지 수, 카테고리, 날짜를 입력값으로 받습니다.\n",
    "def make_urllist(page_num, code, date): \n",
    "    urllist= []\n",
    "    print(code, page_num, date)\n",
    "    for i in range(1, page_num + 1):\n",
    "        try:\n",
    "            url = 'https://news.naver.com/main/list.nhn?mode=LSD&mid=sec&sid1='+str(code)+'&date='+str(date)+'&page='+str(i)\n",
    "            headers = {'User-Agent': 'Mozilla/5.0 (X11; Linux x86_64) AppleWebKit/537.36 (KHTML, like Gecko) Chrome/54.0.2840.90 Safari/537.36'}\n",
    "            news = requests.get(url, headers=headers)\n",
    "\n",
    "            # BeautifulSoup의 인스턴스 생성합니다. 파서는 html.parser를 사용합니다.\n",
    "            soup = BeautifulSoup(news.content, 'html.parser')\n",
    "\n",
    "            # CASE 1\n",
    "            news_list = soup.select('.newsflash_body .type06_headline li dl')\n",
    "            # CASE 2\n",
    "            news_list.extend(soup.select('.newsflash_body .type06 li dl'))\n",
    "\n",
    "        # 각 뉴스로부터 a 태그인 <a href ='주소'> 에서 '주소'만을 가져옵니다.\n",
    "            for line in news_list:\n",
    "                urllist.append(line.a.get('href'))\n",
    "        except:\n",
    "            pass\n",
    "    return urllist\n",
    "\n",
    "from newspaper import Article\n",
    "\n",
    "#- 데이터프레임을 생성하는 함수입니다.\n",
    "def make_data(urllist, code):\n",
    "    text_list = []\n",
    "    count = 0\n",
    "    for url in urllist:\n",
    "        try:\n",
    "            article = Article(url, language='ko')\n",
    "            article.download()\n",
    "            article.parse()\n",
    "            text_list.append(article.title)\n",
    "            count+=1\n",
    "        except:\n",
    "            print('error:code{} -> current count: {} :::moving on',code,count)\n",
    "            pass\n",
    "\n",
    "    #- 데이터프레임의 'news' 키 아래 파싱한 텍스트를 밸류로 붙여줍니다.\n",
    "    df = pd.DataFrame({'news': text_list})\n",
    "\n",
    "    #- 데이터프레임의 'code' 키 아래 한글 카테고리명을 붙여줍니다.\n",
    "    df['code'] = idx2word[str(code)]\n",
    "    return df"
   ]
  },
  {
   "cell_type": "code",
   "execution_count": 2,
   "id": "67a4c945",
   "metadata": {},
   "outputs": [],
   "source": [
    "idx2word = {'100':'정치','101' : '경제', '102' : '사회', '103' : '생활/문화','104' : '세계','105' : 'IT/과학'}"
   ]
  },
  {
   "cell_type": "code",
   "execution_count": 3,
   "id": "9381ba1f",
   "metadata": {},
   "outputs": [],
   "source": [
    "code_list = [int(i) for i in idx2word.keys()]\n",
    "code_list"
   ]
  },
  {
   "cell_type": "code",
   "execution_count": 5,
   "id": "94b1dc52",
   "metadata": {},
   "outputs": [],
   "source": [
    "def make_total_data(page_num, code_list, date):\n",
    "    df = None\n",
    "\n",
    "    for code in code_list:\n",
    "        url_list = make_urllist(page_num, code, date)\n",
    "        df_temp = make_data(url_list, code)\n",
    "        print(str(code)+'번 코드에 대한 데이터를 만들었습니다.')\n",
    "\n",
    "        if df is not None:\n",
    "            df = pd.concat([df, df_temp])\n",
    "        else:\n",
    "            df = df_temp\n",
    "\n",
    "    return df"
   ]
  },
  {
   "cell_type": "code",
   "execution_count": 2,
   "id": "d5c97a41",
   "metadata": {},
   "outputs": [
    {
     "name": "stdout",
     "output_type": "stream",
     "text": [
      "31\n"
     ]
    }
   ],
   "source": [
    "#date 변환\n",
    "from datetime import datetime, timedelta\n",
    "\n",
    "start_date = datetime(2023, 12, 1)\n",
    "end_date = datetime(2023, 12, 31)\n",
    "\n",
    "date_list = []\n",
    "\n",
    "while start_date <= end_date:\n",
    "    formatted_date = start_date.strftime('%Y%m%d')\n",
    "    date_list.append(formatted_date)\n",
    "    start_date += timedelta(days=1)\n",
    "\n",
    "print(len(date_list))"
   ]
  },
  {
   "cell_type": "code",
   "execution_count": 3,
   "id": "f8781562",
   "metadata": {},
   "outputs": [],
   "source": [
    "# import os\n",
    "\n",
    "# # 데이터프레임 파일을 csv 파일로 저장합니다.\n",
    "# # 저장경로는 이번 프로젝트를 위해 만든 폴더로 지정해 주세요.\n",
    "\n",
    "# for i in date_list :\n",
    "#     df = make_total_data(1, code_list, i) # datelist 만큼 6개의 주제에 대해 (60)\n",
    "#     csv_path = os.getenv(\"HOME\") + \"/aiffel/news_crawler/\"+str(i)+\"_news_data.csv\"\n",
    "    \n",
    "#     df.to_csv(csv_path, index=False)\n",
    "    \n",
    "#     if os.path.exists(csv_path):\n",
    "#         print('{} File Saved!'.format(csv_path))"
   ]
  },
  {
   "cell_type": "markdown",
   "id": "9fe2a583",
   "metadata": {},
   "source": [
    "# 데이터 불러오기"
   ]
  },
  {
   "cell_type": "code",
   "execution_count": 1,
   "id": "6fde4dd0",
   "metadata": {},
   "outputs": [
    {
     "name": "stdout",
     "output_type": "stream",
     "text": [
      "31\n"
     ]
    }
   ],
   "source": [
    "#date 변환\n",
    "from datetime import datetime, timedelta\n",
    "\n",
    "start_date = datetime(2023, 12, 1)\n",
    "end_date = datetime(2023, 12, 31)\n",
    "\n",
    "date_list = []\n",
    "\n",
    "while start_date <= end_date:\n",
    "    formatted_date = start_date.strftime('%Y%m%d')\n",
    "    date_list.append(formatted_date)\n",
    "    start_date += timedelta(days=1)\n",
    "\n",
    "print(len(date_list))"
   ]
  },
  {
   "cell_type": "code",
   "execution_count": 2,
   "id": "a8423df9",
   "metadata": {},
   "outputs": [],
   "source": [
    "import os\n",
    "import pandas as pd\n",
    "df = None\n",
    "for i in date_list:\n",
    "    #path\n",
    "    csv_path = os.getenv(\"HOME\") + \"/aiffel/news_crawler/\"+str(i)+\"_news_data.csv\"\n",
    "    df_temp = pd.read_table(csv_path, sep=',')\n",
    "    if df is not None:\n",
    "        df = pd.concat([df, df_temp])\n",
    "    else:\n",
    "        df = df_temp"
   ]
  },
  {
   "cell_type": "code",
   "execution_count": 3,
   "id": "d673e5f1",
   "metadata": {},
   "outputs": [
    {
     "name": "stderr",
     "output_type": "stream",
     "text": [
      "/tmp/ipykernel_388/3527289840.py:1: FutureWarning: The default value of regex will change from True to False in a future version.\n",
      "  df['news'] = df['news'].str.replace(\"[^ㄱ-ㅎㅏ-ㅣ가-힣 ]\",\"\")\n"
     ]
    }
   ],
   "source": [
    "df['news'] = df['news'].str.replace(\"[^ㄱ-ㅎㅏ-ㅣ가-힣 ]\",\"\")"
   ]
  },
  {
   "cell_type": "code",
   "execution_count": 4,
   "id": "4d22461d",
   "metadata": {},
   "outputs": [
    {
     "data": {
      "text/html": [
       "<div>\n",
       "<style scoped>\n",
       "    .dataframe tbody tr th:only-of-type {\n",
       "        vertical-align: middle;\n",
       "    }\n",
       "\n",
       "    .dataframe tbody tr th {\n",
       "        vertical-align: top;\n",
       "    }\n",
       "\n",
       "    .dataframe thead th {\n",
       "        text-align: right;\n",
       "    }\n",
       "</style>\n",
       "<table border=\"1\" class=\"dataframe\">\n",
       "  <thead>\n",
       "    <tr style=\"text-align: right;\">\n",
       "      <th></th>\n",
       "      <th>news</th>\n",
       "      <th>code</th>\n",
       "    </tr>\n",
       "  </thead>\n",
       "  <tbody>\n",
       "    <tr>\n",
       "      <th>0</th>\n",
       "      <td>공군사령부 방문한 북한 김정은</td>\n",
       "      <td>정치</td>\n",
       "    </tr>\n",
       "    <tr>\n",
       "      <th>1</th>\n",
       "      <td>김정은 딸 주애와 악수하는 김광혁 공군사령관</td>\n",
       "      <td>정치</td>\n",
       "    </tr>\n",
       "    <tr>\n",
       "      <th>2</th>\n",
       "      <td>김정은 딸 주애에게 거수경례하는 북한 공군사령부 정치위원</td>\n",
       "      <td>정치</td>\n",
       "    </tr>\n",
       "    <tr>\n",
       "      <th>3</th>\n",
       "      <td>공군사령부 방문한 북한 김정은과 딸 주애</td>\n",
       "      <td>정치</td>\n",
       "    </tr>\n",
       "    <tr>\n",
       "      <th>4</th>\n",
       "      <td>공군 비행사들과 기념촬영하는 김정은과 딸 주애</td>\n",
       "      <td>정치</td>\n",
       "    </tr>\n",
       "    <tr>\n",
       "      <th>...</th>\n",
       "      <td>...</td>\n",
       "      <td>...</td>\n",
       "    </tr>\n",
       "    <tr>\n",
       "      <th>115</th>\n",
       "      <td>뉴욕타임스 챗 개발사 소송에 조선경향 네이버도 허락 없이 뉴스활용 부당</td>\n",
       "      <td>IT/과학</td>\n",
       "    </tr>\n",
       "    <tr>\n",
       "      <th>116</th>\n",
       "      <td>글로벌 경제불황은 사회문제로개인 만족 충성도는 상승</td>\n",
       "      <td>IT/과학</td>\n",
       "    </tr>\n",
       "    <tr>\n",
       "      <th>117</th>\n",
       "      <td>민간 은행은 상상도 못할 일개월 동안 회 먹통난 우체국 금융시스템</td>\n",
       "      <td>IT/과학</td>\n",
       "    </tr>\n",
       "    <tr>\n",
       "      <th>118</th>\n",
       "      <td>서울콘 올해 서울시가 키운 최고의 크리에이터는 크리에이티브 포스 어워즈</td>\n",
       "      <td>IT/과학</td>\n",
       "    </tr>\n",
       "    <tr>\n",
       "      <th>119</th>\n",
       "      <td>골다공증 꾸준한 치료 중요한데 한국만 유일하게 지속급여 제한</td>\n",
       "      <td>IT/과학</td>\n",
       "    </tr>\n",
       "  </tbody>\n",
       "</table>\n",
       "<p>3716 rows × 2 columns</p>\n",
       "</div>"
      ],
      "text/plain": [
       "                                         news   code\n",
       "0                            공군사령부 방문한 북한 김정은     정치\n",
       "1                    김정은 딸 주애와 악수하는 김광혁 공군사령관     정치\n",
       "2             김정은 딸 주애에게 거수경례하는 북한 공군사령부 정치위원     정치\n",
       "3                      공군사령부 방문한 북한 김정은과 딸 주애     정치\n",
       "4                   공군 비행사들과 기념촬영하는 김정은과 딸 주애     정치\n",
       "..                                        ...    ...\n",
       "115   뉴욕타임스 챗 개발사 소송에 조선경향 네이버도 허락 없이 뉴스활용 부당  IT/과학\n",
       "116              글로벌 경제불황은 사회문제로개인 만족 충성도는 상승  IT/과학\n",
       "117      민간 은행은 상상도 못할 일개월 동안 회 먹통난 우체국 금융시스템  IT/과학\n",
       "118   서울콘 올해 서울시가 키운 최고의 크리에이터는 크리에이티브 포스 어워즈  IT/과학\n",
       "119         골다공증 꾸준한 치료 중요한데 한국만 유일하게 지속급여 제한  IT/과학\n",
       "\n",
       "[3716 rows x 2 columns]"
      ]
     },
     "execution_count": 4,
     "metadata": {},
     "output_type": "execute_result"
    }
   ],
   "source": [
    "df"
   ]
  },
  {
   "cell_type": "code",
   "execution_count": 5,
   "id": "855d0977",
   "metadata": {},
   "outputs": [],
   "source": [
    "df.drop_duplicates(subset=['news'], inplace=True)"
   ]
  },
  {
   "cell_type": "code",
   "execution_count": 6,
   "id": "c5f35294",
   "metadata": {},
   "outputs": [
    {
     "data": {
      "text/html": [
       "<div>\n",
       "<style scoped>\n",
       "    .dataframe tbody tr th:only-of-type {\n",
       "        vertical-align: middle;\n",
       "    }\n",
       "\n",
       "    .dataframe tbody tr th {\n",
       "        vertical-align: top;\n",
       "    }\n",
       "\n",
       "    .dataframe thead th {\n",
       "        text-align: right;\n",
       "    }\n",
       "</style>\n",
       "<table border=\"1\" class=\"dataframe\">\n",
       "  <thead>\n",
       "    <tr style=\"text-align: right;\">\n",
       "      <th></th>\n",
       "      <th>news</th>\n",
       "      <th>code</th>\n",
       "    </tr>\n",
       "  </thead>\n",
       "  <tbody>\n",
       "    <tr>\n",
       "      <th>0</th>\n",
       "      <td>공군사령부 방문한 북한 김정은</td>\n",
       "      <td>정치</td>\n",
       "    </tr>\n",
       "    <tr>\n",
       "      <th>1</th>\n",
       "      <td>김정은 딸 주애와 악수하는 김광혁 공군사령관</td>\n",
       "      <td>정치</td>\n",
       "    </tr>\n",
       "    <tr>\n",
       "      <th>2</th>\n",
       "      <td>김정은 딸 주애에게 거수경례하는 북한 공군사령부 정치위원</td>\n",
       "      <td>정치</td>\n",
       "    </tr>\n",
       "    <tr>\n",
       "      <th>3</th>\n",
       "      <td>공군사령부 방문한 북한 김정은과 딸 주애</td>\n",
       "      <td>정치</td>\n",
       "    </tr>\n",
       "    <tr>\n",
       "      <th>4</th>\n",
       "      <td>공군 비행사들과 기념촬영하는 김정은과 딸 주애</td>\n",
       "      <td>정치</td>\n",
       "    </tr>\n",
       "  </tbody>\n",
       "</table>\n",
       "</div>"
      ],
      "text/plain": [
       "                              news code\n",
       "0                 공군사령부 방문한 북한 김정은   정치\n",
       "1         김정은 딸 주애와 악수하는 김광혁 공군사령관   정치\n",
       "2  김정은 딸 주애에게 거수경례하는 북한 공군사령부 정치위원   정치\n",
       "3           공군사령부 방문한 북한 김정은과 딸 주애   정치\n",
       "4        공군 비행사들과 기념촬영하는 김정은과 딸 주애   정치"
      ]
     },
     "execution_count": 6,
     "metadata": {},
     "output_type": "execute_result"
    }
   ],
   "source": [
    "df = df.reset_index(drop=True)\n",
    "df.head()"
   ]
  },
  {
   "cell_type": "code",
   "execution_count": 7,
   "id": "7165cde9",
   "metadata": {},
   "outputs": [
    {
     "data": {
      "text/plain": [
       "<AxesSubplot:>"
      ]
     },
     "execution_count": 7,
     "metadata": {},
     "output_type": "execute_result"
    },
    {
     "data": {
      "image/png": "[encoded data removed]",
      "text/plain": [
       "<Figure size 432x288 with 1 Axes>"
      ]
     },
     "metadata": {
      "needs_background": "light"
     },
     "output_type": "display_data"
    }
   ],
   "source": [
    "import matplotlib.pyplot as plt\n",
    "plt.rcParams[\"font.family\"] = \"NanumGothic\"\n",
    "\n",
    "df['code'].value_counts().plot(kind = 'bar')"
   ]
  },
  {
   "cell_type": "code",
   "execution_count": 8,
   "id": "69fbbfbd",
   "metadata": {},
   "outputs": [
    {
     "name": "stdout",
     "output_type": "stream",
     "text": [
      "    code  count\n",
      "0  IT/과학    555\n",
      "1     경제    587\n",
      "2     사회    497\n",
      "3  생활/문화    539\n",
      "4     세계    171\n",
      "5     정치    603\n"
     ]
    }
   ],
   "source": [
    "print(df.groupby('code').size().reset_index(name = 'count'))"
   ]
  },
  {
   "cell_type": "code",
   "execution_count": 34,
   "id": "1452d35e",
   "metadata": {},
   "outputs": [],
   "source": [
    "stopwords = ['ㅎㅎ', 'ㅎㅎㅎ','에','는','은','을','했','에게','있','이','의','하','한','다','과','때문','할','수','무단','따른','및','금지','전재','경향신문','기자','는데','가','등','들','파이낸셜','저작','등','뉴스']"
   ]
  },
  {
   "cell_type": "code",
   "execution_count": 35,
   "id": "86989932",
   "metadata": {},
   "outputs": [
    {
     "data": {
      "text/plain": [
       "33"
      ]
     },
     "execution_count": 35,
     "metadata": {},
     "output_type": "execute_result"
    }
   ],
   "source": [
    "len(stopwords)"
   ]
  },
  {
   "cell_type": "code",
   "execution_count": 36,
   "id": "569c59bf",
   "metadata": {},
   "outputs": [],
   "source": [
    "#stopword\n",
    "# stop = []\n",
    "# f = open(\"./stopword.txt\",'r')\n",
    "# for i in f :\n",
    "#     stop.append(i.strip('\\n'))\n",
    "# f.close()\n",
    "# stop\n",
    "#stopwords = stop"
   ]
  },
  {
   "cell_type": "code",
   "execution_count": 37,
   "id": "16062cd8",
   "metadata": {},
   "outputs": [],
   "source": [
    "df =df.dropna(axis=0)"
   ]
  },
  {
   "cell_type": "code",
   "execution_count": 38,
   "id": "9cb54392",
   "metadata": {},
   "outputs": [
    {
     "data": {
      "text/html": [
       "<div>\n",
       "<style scoped>\n",
       "    .dataframe tbody tr th:only-of-type {\n",
       "        vertical-align: middle;\n",
       "    }\n",
       "\n",
       "    .dataframe tbody tr th {\n",
       "        vertical-align: top;\n",
       "    }\n",
       "\n",
       "    .dataframe thead th {\n",
       "        text-align: right;\n",
       "    }\n",
       "</style>\n",
       "<table border=\"1\" class=\"dataframe\">\n",
       "  <thead>\n",
       "    <tr style=\"text-align: right;\">\n",
       "      <th></th>\n",
       "      <th>news</th>\n",
       "      <th>code</th>\n",
       "    </tr>\n",
       "  </thead>\n",
       "  <tbody>\n",
       "    <tr>\n",
       "      <th>0</th>\n",
       "      <td>공군사령부 방문한 북한 김정은</td>\n",
       "      <td>정치</td>\n",
       "    </tr>\n",
       "    <tr>\n",
       "      <th>1</th>\n",
       "      <td>김정은 딸 주애와 악수하는 김광혁 공군사령관</td>\n",
       "      <td>정치</td>\n",
       "    </tr>\n",
       "    <tr>\n",
       "      <th>2</th>\n",
       "      <td>김정은 딸 주애에게 거수경례하는 북한 공군사령부 정치위원</td>\n",
       "      <td>정치</td>\n",
       "    </tr>\n",
       "    <tr>\n",
       "      <th>3</th>\n",
       "      <td>공군사령부 방문한 북한 김정은과 딸 주애</td>\n",
       "      <td>정치</td>\n",
       "    </tr>\n",
       "    <tr>\n",
       "      <th>4</th>\n",
       "      <td>공군 비행사들과 기념촬영하는 김정은과 딸 주애</td>\n",
       "      <td>정치</td>\n",
       "    </tr>\n",
       "    <tr>\n",
       "      <th>...</th>\n",
       "      <td>...</td>\n",
       "      <td>...</td>\n",
       "    </tr>\n",
       "    <tr>\n",
       "      <th>2947</th>\n",
       "      <td>뉴욕타임스 챗 개발사 소송에 조선경향 네이버도 허락 없이 뉴스활용 부당</td>\n",
       "      <td>IT/과학</td>\n",
       "    </tr>\n",
       "    <tr>\n",
       "      <th>2948</th>\n",
       "      <td>글로벌 경제불황은 사회문제로개인 만족 충성도는 상승</td>\n",
       "      <td>IT/과학</td>\n",
       "    </tr>\n",
       "    <tr>\n",
       "      <th>2949</th>\n",
       "      <td>민간 은행은 상상도 못할 일개월 동안 회 먹통난 우체국 금융시스템</td>\n",
       "      <td>IT/과학</td>\n",
       "    </tr>\n",
       "    <tr>\n",
       "      <th>2950</th>\n",
       "      <td>서울콘 올해 서울시가 키운 최고의 크리에이터는 크리에이티브 포스 어워즈</td>\n",
       "      <td>IT/과학</td>\n",
       "    </tr>\n",
       "    <tr>\n",
       "      <th>2951</th>\n",
       "      <td>골다공증 꾸준한 치료 중요한데 한국만 유일하게 지속급여 제한</td>\n",
       "      <td>IT/과학</td>\n",
       "    </tr>\n",
       "  </tbody>\n",
       "</table>\n",
       "<p>2951 rows × 2 columns</p>\n",
       "</div>"
      ],
      "text/plain": [
       "                                          news   code\n",
       "0                             공군사령부 방문한 북한 김정은     정치\n",
       "1                     김정은 딸 주애와 악수하는 김광혁 공군사령관     정치\n",
       "2              김정은 딸 주애에게 거수경례하는 북한 공군사령부 정치위원     정치\n",
       "3                       공군사령부 방문한 북한 김정은과 딸 주애     정치\n",
       "4                    공군 비행사들과 기념촬영하는 김정은과 딸 주애     정치\n",
       "...                                        ...    ...\n",
       "2947   뉴욕타임스 챗 개발사 소송에 조선경향 네이버도 허락 없이 뉴스활용 부당  IT/과학\n",
       "2948              글로벌 경제불황은 사회문제로개인 만족 충성도는 상승  IT/과학\n",
       "2949      민간 은행은 상상도 못할 일개월 동안 회 먹통난 우체국 금융시스템  IT/과학\n",
       "2950   서울콘 올해 서울시가 키운 최고의 크리에이터는 크리에이티브 포스 어워즈  IT/과학\n",
       "2951         골다공증 꾸준한 치료 중요한데 한국만 유일하게 지속급여 제한  IT/과학\n",
       "\n",
       "[2951 rows x 2 columns]"
      ]
     },
     "execution_count": 38,
     "metadata": {},
     "output_type": "execute_result"
    }
   ],
   "source": [
    "df"
   ]
  },
  {
   "cell_type": "code",
   "execution_count": 39,
   "id": "8c6e93c8",
   "metadata": {},
   "outputs": [
    {
     "name": "stderr",
     "output_type": "stream",
     "text": [
      "java.io.FileNotFoundException: /tmp/dic.txt (No such file or directory)\n",
      "\tat java.base/java.io.FileInputStream.open0(Native Method)\n",
      "\tat java.base/java.io.FileInputStream.open(FileInputStream.java:219)\n",
      "\tat java.base/java.io.FileInputStream.<init>(FileInputStream.java:157)\n",
      "\tat java.base/java.io.FileInputStream.<init>(FileInputStream.java:112)\n",
      "\tat java.base/java.io.FileReader.<init>(FileReader.java:60)\n",
      "\tat kr.co.shineware.nlp.komoran.core.Komoran.setUserDic(Komoran.java:616)\n"
     ]
    }
   ],
   "source": [
    "from konlpy.tag import Hannanum\n",
    "from konlpy.tag import Kkma\n",
    "from konlpy.tag import Okt\n",
    "from konlpy.tag import Komoran\n",
    "from konlpy.tag import Mecab\n",
    "\n",
    "mecab = Mecab()\n",
    "hannanum = Hannanum()\n",
    "#hannanum.morphs\n",
    "kkma = Kkma()\n",
    "#kkma.morphs\n",
    "okt = Okt()\n",
    "#okt.morphs\n",
    "komoran = Komoran(userdic='/tmp/dic.txt')"
   ]
  },
  {
   "cell_type": "code",
   "execution_count": 40,
   "id": "5a68ed56",
   "metadata": {},
   "outputs": [],
   "source": [
    "tag = [mecab, hannanum, kkma, okt, komoran]\n",
    "tag_name = ['mecab', 'hannanum', 'kkma', 'okt', 'komoran']"
   ]
  },
  {
   "cell_type": "markdown",
   "id": "5f91be13",
   "metadata": {},
   "source": [
    "# 모델 훈련"
   ]
  },
  {
   "cell_type": "code",
   "execution_count": 41,
   "id": "f9466c5e",
   "metadata": {},
   "outputs": [],
   "source": [
    "import time\n",
    "def preprocessing(data,tokenizer,tag_name,stopwords):\n",
    "    text_data = []\n",
    "    start = time.time()\n",
    "    for sentence in data:\n",
    "        temp_data = []\n",
    "        #- 토큰화\n",
    "        #print(sentence)\n",
    "        try:\n",
    "            temp_data = tokenizer.morphs(sentence) \n",
    "        #- 불용어 제거\n",
    "        except :\n",
    "            print(sentence)\n",
    "        temp_data = [word for word in temp_data if not word in stopwords]\n",
    "        #print(temp_data)\n",
    "        text_data.append(temp_data)\n",
    "    end = time.time()\n",
    "    text_data = list(map(' '.join, text_data))\n",
    "    print(f\"{tag_name} : {end - start:.5f} sec\")\n",
    "    return text_data"
   ]
  },
  {
   "cell_type": "code",
   "execution_count": 17,
   "id": "8156e358",
   "metadata": {},
   "outputs": [],
   "source": [
    "from sklearn.model_selection import train_test_split\n",
    "from sklearn.feature_extraction.text import CountVectorizer\n",
    "from sklearn.feature_extraction.text import TfidfTransformer\n",
    "from sklearn.naive_bayes import MultinomialNB\n",
    "from sklearn import metrics"
   ]
  },
  {
   "cell_type": "code",
   "execution_count": null,
   "id": "5bc90546",
   "metadata": {},
   "outputs": [
    {
     "name": "stdout",
     "output_type": "stream",
     "text": [
      "mecab : 0.24642 sec\n",
      "훈련용 뉴스 기사의 개수 : 2213\n",
      "테스트용 뉴스 기사의 개수 :  738\n",
      "훈련용 레이블의 개수 :  2213\n",
      "테스트용 레이블의 개수 :  738\n",
      "              precision    recall  f1-score   support\n",
      "\n",
      "       IT/과학       0.57      0.69      0.62       136\n",
      "          경제       0.57      0.64      0.60       158\n",
      "          사회       0.65      0.44      0.52       121\n",
      "       생활/문화       0.59      0.59      0.59       131\n",
      "          세계       1.00      0.07      0.13        44\n",
      "          정치       0.70      0.86      0.78       148\n",
      "\n",
      "    accuracy                           0.62       738\n",
      "   macro avg       0.68      0.55      0.54       738\n",
      "weighted avg       0.64      0.62      0.60       738\n",
      "\n"
     ]
    }
   ],
   "source": [
    "def tfidf_vectorizer(data):\n",
    "    data_counts = count_vect.transform(data)\n",
    "    data_tfidf = tfidf_transformer.transform(data_counts)\n",
    "    return data_tfidf\n",
    "for tagg,tag_namee in zip(tag,tag_name):\n",
    "    text_data = preprocessing(df['news'],tagg,tag_namee)\n",
    "    X_train, X_test, y_train, y_test = train_test_split(text_data, df['code'], random_state = 0)\n",
    "    print('훈련용 뉴스 기사의 개수 :', len(X_train))\n",
    "    print('테스트용 뉴스 기사의 개수 : ', len(X_test))\n",
    "    print('훈련용 레이블의 개수 : ', len(y_train))\n",
    "    print('테스트용 레이블의 개수 : ', len(y_test))\n",
    "    #- 단어의 수를 카운트하는 사이킷런의 카운트벡터라이저입니다.\n",
    "    count_vect = CountVectorizer()\n",
    "    X_train_counts = count_vect.fit_transform(X_train)\n",
    "\n",
    "    #- 카운트벡터라이저의 결과로부터 TF-IDF 결과를 얻습니다.\n",
    "    tfidf_transformer = TfidfTransformer()\n",
    "    X_train_tfidf = tfidf_transformer.fit_transform(X_train_counts)\n",
    "\n",
    "    #- 나이브 베이즈 분류기를 수행합니다.\n",
    "    #- X_train은 TF-IDF 벡터, y_train은 레이블입니다.\n",
    "    clf = MultinomialNB().fit(X_train_tfidf, y_train)\n",
    "    y_pred = clf.predict(tfidf_vectorizer(X_test))\n",
    "    print(metrics.classification_report(y_test, y_pred))"
   ]
  },
  {
   "cell_type": "markdown",
   "id": "606166da",
   "metadata": {},
   "source": []
  },
  {
   "cell_type": "markdown",
   "id": "6c386ce0",
   "metadata": {},
   "source": [
    "# MECAB"
   ]
  },
  {
   "cell_type": "code",
   "execution_count": 92,
   "id": "62760d2f",
   "metadata": {
    "scrolled": true
   },
   "outputs": [
    {
     "name": "stdout",
     "output_type": "stream",
     "text": [
      "              precision    recall  f1-score   support\n",
      "\n",
      "       IT/과학       0.57      0.69      0.62       136\n",
      "          경제       0.57      0.64      0.60       158\n",
      "          사회       0.65      0.44      0.52       121\n",
      "       생활/문화       0.59      0.59      0.59       131\n",
      "          세계       1.00      0.07      0.13        44\n",
      "          정치       0.70      0.86      0.78       148\n",
      "\n",
      "    accuracy                           0.62       738\n",
      "   macro avg       0.68      0.55      0.54       738\n",
      "weighted avg       0.64      0.62      0.60       738\n",
      "\n"
     ]
    }
   ],
   "source": [
    "y_pred = clf.predict(tfidf_vectorizer(X_test))\n",
    "print(metrics.classification_report(y_test, y_pred))"
   ]
  },
  {
   "cell_type": "markdown",
   "id": "c2544ddd",
   "metadata": {},
   "source": [
    "# kkma"
   ]
  },
  {
   "cell_type": "code",
   "execution_count": 28,
   "id": "8a69e8db",
   "metadata": {},
   "outputs": [
    {
     "name": "stdout",
     "output_type": "stream",
     "text": [
      "              precision    recall  f1-score   support\n",
      "\n",
      "       IT/과학       0.54      0.67      0.59       136\n",
      "          경제       0.55      0.61      0.58       158\n",
      "          사회       0.68      0.44      0.53       121\n",
      "       생활/문화       0.63      0.61      0.62       131\n",
      "          세계       1.00      0.07      0.13        44\n",
      "          정치       0.71      0.88      0.78       148\n",
      "\n",
      "    accuracy                           0.62       738\n",
      "   macro avg       0.68      0.55      0.54       738\n",
      "weighted avg       0.64      0.62      0.60       738\n",
      "\n"
     ]
    }
   ],
   "source": [
    "y_pred = clf.predict(tfidf_vectorizer(X_test)) #101.53963 sec\n",
    "print(metrics.classification_report(y_test, y_pred))"
   ]
  },
  {
   "cell_type": "markdown",
   "id": "b4577e74",
   "metadata": {},
   "source": [
    "# 불용어 체크"
   ]
  },
  {
   "cell_type": "code",
   "execution_count": 21,
   "id": "fcad4110",
   "metadata": {},
   "outputs": [
    {
     "name": "stdout",
     "output_type": "stream",
     "text": [
      "mecab : 0.24826 sec\n"
     ]
    }
   ],
   "source": [
    "text_data = preprocessing(df['news'],tag[0],tag_name[0])\n",
    "count_vect = CountVectorizer()\n",
    "X_train_counts = count_vect.fit_transform(text_data)"
   ]
  },
  {
   "cell_type": "code",
   "execution_count": 25,
   "id": "2e38f79f",
   "metadata": {},
   "outputs": [
    {
     "data": {
      "text/plain": [
       "array(['ㅎㅎ', 'ㅎㅎㅎ', '가격', ..., '힘듭니다', '힘쓰', '힙합'], dtype=object)"
      ]
     },
     "execution_count": 25,
     "metadata": {},
     "output_type": "execute_result"
    }
   ],
   "source": [
    "count_vect.get_feature_names_out()"
   ]
  },
  {
   "cell_type": "code",
   "execution_count": 32,
   "id": "dfeeca1e",
   "metadata": {},
   "outputs": [
    {
     "name": "stdout",
     "output_type": "stream",
     "text": [
      "The word with the most count is: ['ㅎㅎ', 'ㅎㅎㅎ', '가격', '가결', '가계', '가공', '가구', '가금', '가까워', '가까이']\n",
      "The word with the least count is: ['희생', '희생자', '희토류', '히트', '힐링', '힘든', '힘들', '힘듭니다', '힘쓰', '힙합']\n"
     ]
    }
   ],
   "source": [
    "import matplotlib.pyplot as plt\n",
    "from collections import Counter\n",
    "\n",
    "# Count the occurrences of each word\n",
    "word_counts = Counter(count_vect.get_feature_names_out())\n",
    "\n",
    "# Extract words and their corresponding counts\n",
    "words, counts = zip(*word_counts.items())\n",
    "\n",
    "sorted_indices = sorted(range(len(counts)), key=lambda k: counts[k], reverse=True)\n",
    "sorted_words = [words[i] for i in sorted_indices]\n",
    "sorted_counts = [counts[i] for i in sorted_indices]\n",
    "\n",
    "most_common_word = sorted_words[:10]\n",
    "print(f\"The word with the most count is: {most_common_word}\")\n",
    "\n",
    "# Print the word with the least count\n",
    "least_common_word = sorted_words[-10:]\n",
    "print(f\"The word with the least count is: {least_common_word}\")\n"
   ]
  },
  {
   "cell_type": "code",
   "execution_count": null,
   "id": "226844b6",
   "metadata": {},
   "outputs": [],
   "source": [
    "stopwords = ['ㅎㅎ', 'ㅎㅎㅎ','에','는','은','을','했','에게','있','이','의','하','한','다','과','때문','할','수','무단','따른','및','금지','전재','경향신문','기자','는데','가','등','들','파이낸셜','저작','등','뉴스']"
   ]
  },
  {
   "cell_type": "code",
   "execution_count": null,
   "id": "3db199f1",
   "metadata": {},
   "outputs": [],
   "source": [
    "def tfidf_vectorizer(data):\n",
    "    data_counts = count_vect.transform(data)\n",
    "    data_tfidf = tfidf_transformer.transform(data_counts)\n",
    "    return data_tfidf\n",
    "for tagg,tag_namee in zip(tag,tag_name):\n",
    "    text_data = preprocessing(df['news'],tagg,tag_namee)\n",
    "    X_train, X_test, y_train, y_test = train_test_split(text_data, df['code'], random_state = 0)\n",
    "    print('훈련용 뉴스 기사의 개수 :', len(X_train))\n",
    "    print('테스트용 뉴스 기사의 개수 : ', len(X_test))\n",
    "    print('훈련용 레이블의 개수 : ', len(y_train))\n",
    "    print('테스트용 레이블의 개수 : ', len(y_test))\n",
    "    #- 단어의 수를 카운트하는 사이킷런의 카운트벡터라이저입니다.\n",
    "    count_vect = CountVectorizer()\n",
    "    X_train_counts = count_vect.fit_transform(X_train)\n",
    "\n",
    "    #- 카운트벡터라이저의 결과로부터 TF-IDF 결과를 얻습니다.\n",
    "    tfidf_transformer = TfidfTransformer()\n",
    "    X_train_tfidf = tfidf_transformer.fit_transform(X_train_counts)\n",
    "\n",
    "    #- 나이브 베이즈 분류기를 수행합니다.\n",
    "    #- X_train은 TF-IDF 벡터, y_train은 레이블입니다.\n",
    "    clf = MultinomialNB().fit(X_train_tfidf, y_train)\n",
    "    y_pred = clf.predict(tfidf_vectorizer(X_test))\n",
    "    print(metrics.classification_report(y_test, y_pred))"
   ]
  },
  {
   "cell_type": "markdown",
   "id": "6eb80662",
   "metadata": {},
   "source": [
    "# 회고\n",
    "\n",
    "욕심을 너무 부려서 6가지의 클래스를 넣더니 점수가 많이 낮게 나왔다. 클래스당 데이터의 갯수가 다른 것도 한몫 한것 같다. 시간적인 것도 생각해서 진행을 해야 겠다."
   ]
  },
  {
   "cell_type": "code",
   "execution_count": null,
   "id": "c0e757cf",
   "metadata": {},
   "outputs": [],
   "source": []
  }
 ],
 "metadata": {
  "kernelspec": {
   "display_name": "Python 3 (ipykernel)",
   "language": "python",
   "name": "python3"
  },
  "language_info": {
   "codemirror_mode": {
    "name": "ipython",
    "version": 3
   },
   "file_extension": ".py",
   "mimetype": "text/x-python",
   "name": "python",
   "nbconvert_exporter": "python",
   "pygments_lexer": "ipython3",
   "version": "3.9.7"
  }
 },
 "nbformat": 4,
 "nbformat_minor": 5
}
