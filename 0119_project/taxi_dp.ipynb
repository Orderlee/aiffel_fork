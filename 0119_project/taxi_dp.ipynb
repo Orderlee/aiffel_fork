{
 "cells": [
  {
   "cell_type": "code",
   "execution_count": 1,
   "id": "a781ee9e",
   "metadata": {},
   "outputs": [],
   "source": [
    "import pandas as pd\n",
    "import numpy as np\n",
    "import matplotlib.pyplot as plt\n",
    "import seaborn as sns\n",
    "from datetime import datetime"
   ]
  },
  {
   "cell_type": "markdown",
   "id": "f5478c1a",
   "metadata": {},
   "source": [
    "# 데이터 불러오기"
   ]
  },
  {
   "cell_type": "code",
   "execution_count": 2,
   "id": "18065755",
   "metadata": {},
   "outputs": [],
   "source": [
    "data_path = '~/data/trip.csv'\n",
    "original_data = pd.read_csv(data_path)"
   ]
  },
  {
   "cell_type": "code",
   "execution_count": 3,
   "id": "108296ec",
   "metadata": {},
   "outputs": [],
   "source": [
    "df = original_data.copy()"
   ]
  },
  {
   "cell_type": "code",
   "execution_count": 4,
   "id": "3039fc58",
   "metadata": {},
   "outputs": [
    {
     "data": {
      "text/html": [
       "<div>\n",
       "<style scoped>\n",
       "    .dataframe tbody tr th:only-of-type {\n",
       "        vertical-align: middle;\n",
       "    }\n",
       "\n",
       "    .dataframe tbody tr th {\n",
       "        vertical-align: top;\n",
       "    }\n",
       "\n",
       "    .dataframe thead th {\n",
       "        text-align: right;\n",
       "    }\n",
       "</style>\n",
       "<table border=\"1\" class=\"dataframe\">\n",
       "  <thead>\n",
       "    <tr style=\"text-align: right;\">\n",
       "      <th></th>\n",
       "      <th>passenger_name</th>\n",
       "      <th>tpep_pickup_datetime</th>\n",
       "      <th>tpep_dropoff_datetime</th>\n",
       "      <th>payment_method</th>\n",
       "      <th>passenger_count</th>\n",
       "      <th>trip_distance</th>\n",
       "      <th>fare_amount</th>\n",
       "      <th>tip_amount</th>\n",
       "      <th>tolls_amount</th>\n",
       "    </tr>\n",
       "  </thead>\n",
       "  <tbody>\n",
       "    <tr>\n",
       "      <th>0</th>\n",
       "      <td>Pamela Duffy</td>\n",
       "      <td>03/25/2017 8:55:43 AM</td>\n",
       "      <td>03/25/2017 9:09:47 AM</td>\n",
       "      <td>Debit Card</td>\n",
       "      <td>6</td>\n",
       "      <td>3.34</td>\n",
       "      <td>13.0</td>\n",
       "      <td>2.76</td>\n",
       "      <td>0.0</td>\n",
       "    </tr>\n",
       "    <tr>\n",
       "      <th>1</th>\n",
       "      <td>Michelle Foster</td>\n",
       "      <td>04/11/2017 2:53:28 PM</td>\n",
       "      <td>04/11/2017 3:19:58 PM</td>\n",
       "      <td>Debit Card</td>\n",
       "      <td>1</td>\n",
       "      <td>1.80</td>\n",
       "      <td>16.0</td>\n",
       "      <td>4.00</td>\n",
       "      <td>0.0</td>\n",
       "    </tr>\n",
       "    <tr>\n",
       "      <th>2</th>\n",
       "      <td>Tina Combs</td>\n",
       "      <td>12/15/2017 7:26:56 AM</td>\n",
       "      <td>12/15/2017 7:34:08 AM</td>\n",
       "      <td>Debit Card</td>\n",
       "      <td>1</td>\n",
       "      <td>1.00</td>\n",
       "      <td>6.5</td>\n",
       "      <td>1.45</td>\n",
       "      <td>0.0</td>\n",
       "    </tr>\n",
       "    <tr>\n",
       "      <th>3</th>\n",
       "      <td>Anthony Ray</td>\n",
       "      <td>05/07/2017 1:17:59 PM</td>\n",
       "      <td>05/07/2017 1:48:14 PM</td>\n",
       "      <td>Cash</td>\n",
       "      <td>1</td>\n",
       "      <td>3.70</td>\n",
       "      <td>20.5</td>\n",
       "      <td>6.39</td>\n",
       "      <td>0.0</td>\n",
       "    </tr>\n",
       "    <tr>\n",
       "      <th>4</th>\n",
       "      <td>Brianna Johnson</td>\n",
       "      <td>04/15/2017 11:32:20 PM</td>\n",
       "      <td>04/15/2017 11:49:03 PM</td>\n",
       "      <td>Debit Card</td>\n",
       "      <td>1</td>\n",
       "      <td>4.37</td>\n",
       "      <td>16.5</td>\n",
       "      <td>0.00</td>\n",
       "      <td>0.0</td>\n",
       "    </tr>\n",
       "  </tbody>\n",
       "</table>\n",
       "</div>"
      ],
      "text/plain": [
       "    passenger_name    tpep_pickup_datetime   tpep_dropoff_datetime  \\\n",
       "0     Pamela Duffy   03/25/2017 8:55:43 AM   03/25/2017 9:09:47 AM   \n",
       "1  Michelle Foster   04/11/2017 2:53:28 PM   04/11/2017 3:19:58 PM   \n",
       "2       Tina Combs   12/15/2017 7:26:56 AM   12/15/2017 7:34:08 AM   \n",
       "3      Anthony Ray   05/07/2017 1:17:59 PM   05/07/2017 1:48:14 PM   \n",
       "4  Brianna Johnson  04/15/2017 11:32:20 PM  04/15/2017 11:49:03 PM   \n",
       "\n",
       "  payment_method  passenger_count  trip_distance  fare_amount  tip_amount  \\\n",
       "0     Debit Card                6           3.34         13.0        2.76   \n",
       "1     Debit Card                1           1.80         16.0        4.00   \n",
       "2     Debit Card                1           1.00          6.5        1.45   \n",
       "3           Cash                1           3.70         20.5        6.39   \n",
       "4     Debit Card                1           4.37         16.5        0.00   \n",
       "\n",
       "   tolls_amount  \n",
       "0           0.0  \n",
       "1           0.0  \n",
       "2           0.0  \n",
       "3           0.0  \n",
       "4           0.0  "
      ]
     },
     "execution_count": 4,
     "metadata": {},
     "output_type": "execute_result"
    }
   ],
   "source": [
    "df.head()"
   ]
  },
  {
   "cell_type": "markdown",
   "id": "b7dc40d8",
   "metadata": {},
   "source": [
    "# 결측치,이상치, 중복치 확인"
   ]
  },
  {
   "cell_type": "code",
   "execution_count": 5,
   "id": "5ca1f1de",
   "metadata": {},
   "outputs": [
    {
     "name": "stdout",
     "output_type": "stream",
     "text": [
      "<class 'pandas.core.frame.DataFrame'>\n",
      "RangeIndex: 22701 entries, 0 to 22700\n",
      "Data columns (total 9 columns):\n",
      " #   Column                 Non-Null Count  Dtype  \n",
      "---  ------                 --------------  -----  \n",
      " 0   passenger_name         22701 non-null  object \n",
      " 1   tpep_pickup_datetime   22701 non-null  object \n",
      " 2   tpep_dropoff_datetime  22701 non-null  object \n",
      " 3   payment_method         22701 non-null  object \n",
      " 4   passenger_count        22701 non-null  int64  \n",
      " 5   trip_distance          22701 non-null  float64\n",
      " 6   fare_amount            22698 non-null  float64\n",
      " 7   tip_amount             22701 non-null  float64\n",
      " 8   tolls_amount           22701 non-null  float64\n",
      "dtypes: float64(4), int64(1), object(4)\n",
      "memory usage: 1.6+ MB\n"
     ]
    }
   ],
   "source": [
    "df.info() # fare-amount에 결측치 확인"
   ]
  },
  {
   "cell_type": "code",
   "execution_count": 6,
   "id": "e60d2de6",
   "metadata": {},
   "outputs": [
    {
     "data": {
      "text/html": [
       "<div>\n",
       "<style scoped>\n",
       "    .dataframe tbody tr th:only-of-type {\n",
       "        vertical-align: middle;\n",
       "    }\n",
       "\n",
       "    .dataframe tbody tr th {\n",
       "        vertical-align: top;\n",
       "    }\n",
       "\n",
       "    .dataframe thead th {\n",
       "        text-align: right;\n",
       "    }\n",
       "</style>\n",
       "<table border=\"1\" class=\"dataframe\">\n",
       "  <thead>\n",
       "    <tr style=\"text-align: right;\">\n",
       "      <th></th>\n",
       "      <th>passenger_name</th>\n",
       "      <th>tpep_pickup_datetime</th>\n",
       "      <th>tpep_dropoff_datetime</th>\n",
       "      <th>payment_method</th>\n",
       "      <th>passenger_count</th>\n",
       "      <th>trip_distance</th>\n",
       "      <th>fare_amount</th>\n",
       "      <th>tip_amount</th>\n",
       "      <th>tolls_amount</th>\n",
       "    </tr>\n",
       "  </thead>\n",
       "  <tbody>\n",
       "    <tr>\n",
       "      <th>52</th>\n",
       "      <td>Benjamin Johnson</td>\n",
       "      <td>04/04/2017 4:22:03 PM</td>\n",
       "      <td>04/04/2017 4:35:30 PM</td>\n",
       "      <td>Cash</td>\n",
       "      <td>1</td>\n",
       "      <td>2.20</td>\n",
       "      <td>NaN</td>\n",
       "      <td>0.0</td>\n",
       "      <td>0.00</td>\n",
       "    </tr>\n",
       "    <tr>\n",
       "      <th>189</th>\n",
       "      <td>Maria Ibarra</td>\n",
       "      <td>08/21/2017 12:40:25 PM</td>\n",
       "      <td>08/21/2017 1:12:31 PM</td>\n",
       "      <td>Debit Card</td>\n",
       "      <td>3</td>\n",
       "      <td>15.20</td>\n",
       "      <td>NaN</td>\n",
       "      <td>5.0</td>\n",
       "      <td>0.00</td>\n",
       "    </tr>\n",
       "    <tr>\n",
       "      <th>244</th>\n",
       "      <td>Tina Avila</td>\n",
       "      <td>08/09/2017 8:32:09 AM</td>\n",
       "      <td>08/09/2017 9:31:11 AM</td>\n",
       "      <td>Cash</td>\n",
       "      <td>1</td>\n",
       "      <td>15.89</td>\n",
       "      <td>NaN</td>\n",
       "      <td>10.0</td>\n",
       "      <td>5.76</td>\n",
       "    </tr>\n",
       "  </tbody>\n",
       "</table>\n",
       "</div>"
      ],
      "text/plain": [
       "       passenger_name    tpep_pickup_datetime  tpep_dropoff_datetime  \\\n",
       "52   Benjamin Johnson   04/04/2017 4:22:03 PM  04/04/2017 4:35:30 PM   \n",
       "189      Maria Ibarra  08/21/2017 12:40:25 PM  08/21/2017 1:12:31 PM   \n",
       "244        Tina Avila   08/09/2017 8:32:09 AM  08/09/2017 9:31:11 AM   \n",
       "\n",
       "    payment_method  passenger_count  trip_distance  fare_amount  tip_amount  \\\n",
       "52            Cash                1           2.20          NaN         0.0   \n",
       "189     Debit Card                3          15.20          NaN         5.0   \n",
       "244           Cash                1          15.89          NaN        10.0   \n",
       "\n",
       "     tolls_amount  \n",
       "52           0.00  \n",
       "189          0.00  \n",
       "244          5.76  "
      ]
     },
     "execution_count": 6,
     "metadata": {},
     "output_type": "execute_result"
    }
   ],
   "source": [
    "df[df['fare_amount'].isnull()]"
   ]
  },
  {
   "cell_type": "code",
   "execution_count": 7,
   "id": "fa6c721f",
   "metadata": {},
   "outputs": [
    {
     "name": "stderr",
     "output_type": "stream",
     "text": [
      "/tmp/ipykernel_89/183501775.py:1: FutureWarning: Dropping of nuisance columns in DataFrame reductions (with 'numeric_only=None') is deprecated; in a future version this will raise TypeError.  Select only valid columns before calling the reduction.\n",
      "  display(df[df.trip_distance == 2.2][1:].median()) #mean : 11.3, median :10.5\n"
     ]
    },
    {
     "data": {
      "text/plain": [
       "passenger_count     1.00\n",
       "trip_distance       2.20\n",
       "fare_amount        10.50\n",
       "tip_amount          1.48\n",
       "tolls_amount        0.00\n",
       "dtype: float64"
      ]
     },
     "metadata": {},
     "output_type": "display_data"
    },
    {
     "data": {
      "text/plain": [
       "passenger_name                Benjamin Johnson\n",
       "tpep_pickup_datetime     04/04/2017 4:22:03 PM\n",
       "tpep_dropoff_datetime    04/04/2017 4:35:30 PM\n",
       "payment_method                            Cash\n",
       "passenger_count                              1\n",
       "trip_distance                              2.2\n",
       "fare_amount                               10.5\n",
       "tip_amount                                 0.0\n",
       "tolls_amount                               0.0\n",
       "Name: 52, dtype: object"
      ]
     },
     "execution_count": 7,
     "metadata": {},
     "output_type": "execute_result"
    }
   ],
   "source": [
    "display(df[df.trip_distance == 2.2][1:].median()) #mean : 11.3, median :10.5\n",
    "df.loc[52,'fare_amount'] = 10.5\n",
    "df.loc[52]"
   ]
  },
  {
   "cell_type": "code",
   "execution_count": 8,
   "id": "04faa3ef",
   "metadata": {},
   "outputs": [
    {
     "name": "stderr",
     "output_type": "stream",
     "text": [
      "/tmp/ipykernel_89/1440899683.py:1: FutureWarning: Dropping of nuisance columns in DataFrame reductions (with 'numeric_only=None') is deprecated; in a future version this will raise TypeError.  Select only valid columns before calling the reduction.\n",
      "  df[df.trip_distance == 15.2][1:].mean() #mean :45 median: 43\n"
     ]
    },
    {
     "data": {
      "text/plain": [
       "passenger_name                     Maria Ibarra\n",
       "tpep_pickup_datetime     08/21/2017 12:40:25 PM\n",
       "tpep_dropoff_datetime     08/21/2017 1:12:31 PM\n",
       "payment_method                       Debit Card\n",
       "passenger_count                               3\n",
       "trip_distance                              15.2\n",
       "fare_amount                                43.0\n",
       "tip_amount                                  5.0\n",
       "tolls_amount                                0.0\n",
       "Name: 189, dtype: object"
      ]
     },
     "execution_count": 8,
     "metadata": {},
     "output_type": "execute_result"
    }
   ],
   "source": [
    "df[df.trip_distance == 15.2][1:].mean() #mean :45 median: 43\n",
    "df.loc[189,'fare_amount'] = 43\n",
    "df.loc[189]"
   ]
  },
  {
   "cell_type": "code",
   "execution_count": 9,
   "id": "8f2e0eaf",
   "metadata": {},
   "outputs": [
    {
     "name": "stderr",
     "output_type": "stream",
     "text": [
      "/tmp/ipykernel_89/59900880.py:1: FutureWarning: Dropping of nuisance columns in DataFrame reductions (with 'numeric_only=None') is deprecated; in a future version this will raise TypeError.  Select only valid columns before calling the reduction.\n",
      "  df[(df.trip_distance > 15.8 )& (df.trip_distance < 16)][1:].median() #48.5\n"
     ]
    },
    {
     "data": {
      "text/plain": [
       "passenger_name                      Tina Avila\n",
       "tpep_pickup_datetime     08/09/2017 8:32:09 AM\n",
       "tpep_dropoff_datetime    08/09/2017 9:31:11 AM\n",
       "payment_method                            Cash\n",
       "passenger_count                              1\n",
       "trip_distance                            15.89\n",
       "fare_amount                               48.5\n",
       "tip_amount                                10.0\n",
       "tolls_amount                              5.76\n",
       "Name: 244, dtype: object"
      ]
     },
     "execution_count": 9,
     "metadata": {},
     "output_type": "execute_result"
    }
   ],
   "source": [
    "df[(df.trip_distance > 15.8 )& (df.trip_distance < 16)][1:].median() #48.5\n",
    "df.loc[244,'fare_amount'] = 48.5\n",
    "df.loc[244]"
   ]
  },
  {
   "cell_type": "code",
   "execution_count": 10,
   "id": "19da7dd5",
   "metadata": {},
   "outputs": [
    {
     "data": {
      "text/plain": [
       "passenger_name           0\n",
       "tpep_pickup_datetime     0\n",
       "tpep_dropoff_datetime    0\n",
       "payment_method           0\n",
       "passenger_count          0\n",
       "trip_distance            0\n",
       "fare_amount              0\n",
       "tip_amount               0\n",
       "tolls_amount             0\n",
       "dtype: int64"
      ]
     },
     "execution_count": 10,
     "metadata": {},
     "output_type": "execute_result"
    }
   ],
   "source": [
    "df.isnull().sum()"
   ]
  },
  {
   "cell_type": "markdown",
   "id": "29798f21",
   "metadata": {},
   "source": [
    "fare amount의 결측값을 제거하기보다는 살릴 수있는 방향을 모색해본다.\n",
    "fare_amount의 값에 영향을 줄 수 있는 것들에\n",
    "- passenger_count\n",
    "- trip_distance\n",
    "- tip_amount\n",
    "- tolls_amount\n",
    "\n",
    "등이 있다고 생각해서 scatter_plot을 이용해 각각의 상관관계를 보고자 한다.\n",
    "\n",
    "비슷한 trip_distance끼리 fare_amount가 비슷한 것을 확인 할 수 있었다.\n",
    "따라서 그 주변값들의 median으로 처리하기로 결정했다.\n"
   ]
  },
  {
   "cell_type": "markdown",
   "id": "76c830dc",
   "metadata": {},
   "source": [
    "# 이상치 탐지 및 해결방안"
   ]
  },
  {
   "cell_type": "markdown",
   "id": "a99115be",
   "metadata": {},
   "source": [
    "타고 내리는 시간을 나타내는 컬럼을 만들어서 시간과의 관련성을 본다.\n",
    "또한, scatterplot을 이용하여 컴럼들관의 상관 관계도 나타내어 본다."
   ]
  },
  {
   "cell_type": "code",
   "execution_count": 11,
   "id": "873e0f69",
   "metadata": {},
   "outputs": [],
   "source": [
    "df['time_difference'] = pd.to_datetime(df['tpep_dropoff_datetime'])-pd.to_datetime(df['tpep_pickup_datetime'])"
   ]
  },
  {
   "cell_type": "code",
   "execution_count": 12,
   "id": "ac22563d",
   "metadata": {},
   "outputs": [],
   "source": [
    "# 타고 내리는 시간 제거\n",
    "df = df.drop(['tpep_dropoff_datetime','tpep_pickup_datetime'],axis=1)"
   ]
  },
  {
   "cell_type": "code",
   "execution_count": 13,
   "id": "507eebda",
   "metadata": {},
   "outputs": [
    {
     "data": {
      "text/plain": [
       "count                        22701\n",
       "mean     0 days 00:17:00.848685079\n",
       "std      0 days 01:01:59.629029790\n",
       "min              -1 days +23:43:01\n",
       "25%                0 days 00:06:39\n",
       "50%                0 days 00:11:11\n",
       "75%                0 days 00:18:23\n",
       "max                0 days 23:59:33\n",
       "Name: time_difference, dtype: object"
      ]
     },
     "execution_count": 13,
     "metadata": {},
     "output_type": "execute_result"
    }
   ],
   "source": [
    "df['time_difference'].describe() # 마이너스 값이 존재하네.."
   ]
  },
  {
   "cell_type": "code",
   "execution_count": 14,
   "id": "0c5d2fd2",
   "metadata": {},
   "outputs": [
    {
     "data": {
      "text/plain": [
       "Timedelta('0 days 00:20:54.500000')"
      ]
     },
     "execution_count": 14,
     "metadata": {},
     "output_type": "execute_result"
    }
   ],
   "source": [
    "temp = df[df['time_difference'].dt.days>=0]\n",
    "temp[temp['trip_distance'] ==5.7]['time_difference'].median()"
   ]
  },
  {
   "cell_type": "code",
   "execution_count": 15,
   "id": "003199ac",
   "metadata": {},
   "outputs": [],
   "source": [
    "df.loc[9358,'time_difference'] = temp[temp['trip_distance'] ==5.7]['time_difference'].median()"
   ]
  },
  {
   "cell_type": "code",
   "execution_count": 16,
   "id": "de17101a",
   "metadata": {},
   "outputs": [
    {
     "data": {
      "text/plain": [
       "passenger_name              Donna Summers\n",
       "payment_method                       Cash\n",
       "passenger_count                         1\n",
       "trip_distance                         5.7\n",
       "fare_amount                          28.0\n",
       "tip_amount                            0.0\n",
       "tolls_amount                          0.0\n",
       "time_difference    0 days 00:20:54.500000\n",
       "Name: 9358, dtype: object"
      ]
     },
     "execution_count": 16,
     "metadata": {},
     "output_type": "execute_result"
    }
   ],
   "source": [
    "df.loc[9358]"
   ]
  },
  {
   "cell_type": "code",
   "execution_count": 17,
   "id": "88c85059",
   "metadata": {},
   "outputs": [
    {
     "data": {
      "text/plain": [
       "count                        22701\n",
       "mean     0 days 00:17:00.948834853\n",
       "std      0 days 01:01:59.604711660\n",
       "min                0 days 00:00:00\n",
       "25%                0 days 00:06:39\n",
       "50%                0 days 00:11:11\n",
       "75%                0 days 00:18:23\n",
       "max                0 days 23:59:33\n",
       "Name: time_difference, dtype: object"
      ]
     },
     "execution_count": 17,
     "metadata": {},
     "output_type": "execute_result"
    }
   ],
   "source": [
    "df['time_difference'].describe()"
   ]
  },
  {
   "cell_type": "markdown",
   "id": "b2de6732",
   "metadata": {},
   "source": [
    "### 실수로 행 다 바꿔버림;;;\n",
    "하지만, 정리를 잘해서 해결!"
   ]
  },
  {
   "cell_type": "markdown",
   "id": "81ca6cba",
   "metadata": {},
   "source": [
    "## 중복값제거"
   ]
  },
  {
   "cell_type": "code",
   "execution_count": 18,
   "id": "cfe009a2",
   "metadata": {
    "scrolled": true
   },
   "outputs": [
    {
     "data": {
      "text/html": [
       "<div>\n",
       "<style scoped>\n",
       "    .dataframe tbody tr th:only-of-type {\n",
       "        vertical-align: middle;\n",
       "    }\n",
       "\n",
       "    .dataframe tbody tr th {\n",
       "        vertical-align: top;\n",
       "    }\n",
       "\n",
       "    .dataframe thead th {\n",
       "        text-align: right;\n",
       "    }\n",
       "</style>\n",
       "<table border=\"1\" class=\"dataframe\">\n",
       "  <thead>\n",
       "    <tr style=\"text-align: right;\">\n",
       "      <th></th>\n",
       "      <th>passenger_name</th>\n",
       "      <th>payment_method</th>\n",
       "      <th>passenger_count</th>\n",
       "      <th>trip_distance</th>\n",
       "      <th>fare_amount</th>\n",
       "      <th>tip_amount</th>\n",
       "      <th>tolls_amount</th>\n",
       "      <th>time_difference</th>\n",
       "    </tr>\n",
       "  </thead>\n",
       "  <tbody>\n",
       "    <tr>\n",
       "      <th>17</th>\n",
       "      <td>Sarah Gross</td>\n",
       "      <td>Cash</td>\n",
       "      <td>1</td>\n",
       "      <td>3.6</td>\n",
       "      <td>12.5</td>\n",
       "      <td>2.85</td>\n",
       "      <td>0.0</td>\n",
       "      <td>0 days 00:12:29</td>\n",
       "    </tr>\n",
       "    <tr>\n",
       "      <th>204</th>\n",
       "      <td>Lisa Bullock</td>\n",
       "      <td>Cash</td>\n",
       "      <td>1</td>\n",
       "      <td>4.2</td>\n",
       "      <td>21.0</td>\n",
       "      <td>0.00</td>\n",
       "      <td>0.0</td>\n",
       "      <td>0 days 00:29:54</td>\n",
       "    </tr>\n",
       "  </tbody>\n",
       "</table>\n",
       "</div>"
      ],
      "text/plain": [
       "    passenger_name payment_method  passenger_count  trip_distance  \\\n",
       "17     Sarah Gross           Cash                1            3.6   \n",
       "204   Lisa Bullock           Cash                1            4.2   \n",
       "\n",
       "     fare_amount  tip_amount  tolls_amount time_difference  \n",
       "17          12.5        2.85           0.0 0 days 00:12:29  \n",
       "204         21.0        0.00           0.0 0 days 00:29:54  "
      ]
     },
     "execution_count": 18,
     "metadata": {},
     "output_type": "execute_result"
    }
   ],
   "source": [
    "df[df.duplicated()]"
   ]
  },
  {
   "cell_type": "markdown",
   "id": "1e56ec38",
   "metadata": {},
   "source": [
    "처음에 중복값을 못찾았으나, 승은님의 도움으로 다시해보니 중복값이 나왔다."
   ]
  },
  {
   "cell_type": "code",
   "execution_count": 19,
   "id": "ae05e6ee",
   "metadata": {},
   "outputs": [],
   "source": [
    "df = df.drop_duplicates() # 중복 제거"
   ]
  },
  {
   "cell_type": "markdown",
   "id": "d8bef1ff",
   "metadata": {},
   "source": [
    "## 중복값 제거 후 이상치 탐지 재개"
   ]
  },
  {
   "cell_type": "code",
   "execution_count": 20,
   "id": "ff4bc7ab",
   "metadata": {},
   "outputs": [
    {
     "name": "stderr",
     "output_type": "stream",
     "text": [
      "/opt/conda/lib/python3.9/site-packages/seaborn/_decorators.py:36: FutureWarning: Pass the following variables as keyword args: x, y. From version 0.12, the only valid positional argument will be `data`, and passing other arguments without an explicit keyword will result in an error or misinterpretation.\n",
      "  warnings.warn(\n"
     ]
    },
    {
     "data": {
      "text/plain": [
       "<AxesSubplot:xlabel='passenger_count', ylabel='fare_amount'>"
      ]
     },
     "execution_count": 20,
     "metadata": {},
     "output_type": "execute_result"
    },
    {
     "data": {
      "image/png": "[encoded data removed]",
      "text/plain": [
       "<Figure size 432x288 with 1 Axes>"
      ]
     },
     "metadata": {
      "needs_background": "light"
     },
     "output_type": "display_data"
    }
   ],
   "source": [
    "sns.scatterplot(df.passenger_count,df.fare_amount)"
   ]
  },
  {
   "cell_type": "markdown",
   "id": "82d631a9",
   "metadata": {},
   "source": [
    "passenger_count와 fare_amount의 scatterplot에서 이상치가 확인되었다.\n",
    "- 음수값의 fare_amount -> (나중에)\n",
    "- 35이상의 passenger -> max값으로 대체\n",
    "- 400 이상의 높은 fare_amount -> 제거"
   ]
  },
  {
   "cell_type": "code",
   "execution_count": 21,
   "id": "cea6bcda",
   "metadata": {},
   "outputs": [
    {
     "data": {
      "text/html": [
       "<div>\n",
       "<style scoped>\n",
       "    .dataframe tbody tr th:only-of-type {\n",
       "        vertical-align: middle;\n",
       "    }\n",
       "\n",
       "    .dataframe tbody tr th {\n",
       "        vertical-align: top;\n",
       "    }\n",
       "\n",
       "    .dataframe thead th {\n",
       "        text-align: right;\n",
       "    }\n",
       "</style>\n",
       "<table border=\"1\" class=\"dataframe\">\n",
       "  <thead>\n",
       "    <tr style=\"text-align: right;\">\n",
       "      <th></th>\n",
       "      <th>passenger_name</th>\n",
       "      <th>payment_method</th>\n",
       "      <th>passenger_count</th>\n",
       "      <th>trip_distance</th>\n",
       "      <th>fare_amount</th>\n",
       "      <th>tip_amount</th>\n",
       "      <th>tolls_amount</th>\n",
       "      <th>time_difference</th>\n",
       "    </tr>\n",
       "  </thead>\n",
       "  <tbody>\n",
       "    <tr>\n",
       "      <th>8478</th>\n",
       "      <td>Alexis Hanson</td>\n",
       "      <td>Credit Card</td>\n",
       "      <td>1</td>\n",
       "      <td>2.6</td>\n",
       "      <td>999.99</td>\n",
       "      <td>200.0</td>\n",
       "      <td>0.0</td>\n",
       "      <td>0 days 00:00:58</td>\n",
       "    </tr>\n",
       "    <tr>\n",
       "      <th>20314</th>\n",
       "      <td>Nicholas Thomas</td>\n",
       "      <td>Cash</td>\n",
       "      <td>2</td>\n",
       "      <td>0.0</td>\n",
       "      <td>450.00</td>\n",
       "      <td>0.0</td>\n",
       "      <td>0.0</td>\n",
       "      <td>0 days 00:00:09</td>\n",
       "    </tr>\n",
       "  </tbody>\n",
       "</table>\n",
       "</div>"
      ],
      "text/plain": [
       "        passenger_name payment_method  passenger_count  trip_distance  \\\n",
       "8478     Alexis Hanson    Credit Card                1            2.6   \n",
       "20314  Nicholas Thomas           Cash                2            0.0   \n",
       "\n",
       "       fare_amount  tip_amount  tolls_amount time_difference  \n",
       "8478        999.99       200.0           0.0 0 days 00:00:58  \n",
       "20314       450.00         0.0           0.0 0 days 00:00:09  "
      ]
     },
     "metadata": {},
     "output_type": "display_data"
    },
    {
     "data": {
      "text/html": [
       "<div>\n",
       "<style scoped>\n",
       "    .dataframe tbody tr th:only-of-type {\n",
       "        vertical-align: middle;\n",
       "    }\n",
       "\n",
       "    .dataframe tbody tr th {\n",
       "        vertical-align: top;\n",
       "    }\n",
       "\n",
       "    .dataframe thead th {\n",
       "        text-align: right;\n",
       "    }\n",
       "</style>\n",
       "<table border=\"1\" class=\"dataframe\">\n",
       "  <thead>\n",
       "    <tr style=\"text-align: right;\">\n",
       "      <th></th>\n",
       "      <th>passenger_name</th>\n",
       "      <th>payment_method</th>\n",
       "      <th>passenger_count</th>\n",
       "      <th>trip_distance</th>\n",
       "      <th>fare_amount</th>\n",
       "      <th>tip_amount</th>\n",
       "      <th>tolls_amount</th>\n",
       "      <th>time_difference</th>\n",
       "    </tr>\n",
       "  </thead>\n",
       "  <tbody>\n",
       "    <tr>\n",
       "      <th>316</th>\n",
       "      <td>Tiffany Johnson</td>\n",
       "      <td>Cash</td>\n",
       "      <td>6</td>\n",
       "      <td>0.12</td>\n",
       "      <td>-2.5</td>\n",
       "      <td>0.0</td>\n",
       "      <td>0.0</td>\n",
       "      <td>0 days 00:00:29</td>\n",
       "    </tr>\n",
       "    <tr>\n",
       "      <th>1648</th>\n",
       "      <td>Debbie Holmes</td>\n",
       "      <td>Credit Card</td>\n",
       "      <td>1</td>\n",
       "      <td>0.04</td>\n",
       "      <td>-2.5</td>\n",
       "      <td>0.0</td>\n",
       "      <td>0.0</td>\n",
       "      <td>0 days 00:00:37</td>\n",
       "    </tr>\n",
       "    <tr>\n",
       "      <th>4425</th>\n",
       "      <td>Bobby Wilson</td>\n",
       "      <td>Cash</td>\n",
       "      <td>2</td>\n",
       "      <td>0.06</td>\n",
       "      <td>-3.0</td>\n",
       "      <td>0.0</td>\n",
       "      <td>0.0</td>\n",
       "      <td>0 days 00:01:20</td>\n",
       "    </tr>\n",
       "    <tr>\n",
       "      <th>5450</th>\n",
       "      <td>Alejandro Williams</td>\n",
       "      <td>Debit Card</td>\n",
       "      <td>1</td>\n",
       "      <td>0.25</td>\n",
       "      <td>-3.5</td>\n",
       "      <td>0.0</td>\n",
       "      <td>0.0</td>\n",
       "      <td>0 days 00:02:13</td>\n",
       "    </tr>\n",
       "    <tr>\n",
       "      <th>5760</th>\n",
       "      <td>Samuel Cooper</td>\n",
       "      <td>Debit Card</td>\n",
       "      <td>1</td>\n",
       "      <td>0.02</td>\n",
       "      <td>-2.5</td>\n",
       "      <td>0.0</td>\n",
       "      <td>0.0</td>\n",
       "      <td>0 days 00:00:16</td>\n",
       "    </tr>\n",
       "    <tr>\n",
       "      <th>8206</th>\n",
       "      <td>Stephanie Summers</td>\n",
       "      <td>Credit Card</td>\n",
       "      <td>1</td>\n",
       "      <td>0.41</td>\n",
       "      <td>-3.5</td>\n",
       "      <td>0.0</td>\n",
       "      <td>0.0</td>\n",
       "      <td>0 days 00:02:23</td>\n",
       "    </tr>\n",
       "    <tr>\n",
       "      <th>10283</th>\n",
       "      <td>Donna Larson</td>\n",
       "      <td>Credit Card</td>\n",
       "      <td>2</td>\n",
       "      <td>0.00</td>\n",
       "      <td>-2.5</td>\n",
       "      <td>0.0</td>\n",
       "      <td>0.0</td>\n",
       "      <td>0 days 00:02:04</td>\n",
       "    </tr>\n",
       "    <tr>\n",
       "      <th>11206</th>\n",
       "      <td>Austin Fields</td>\n",
       "      <td>Debit Card</td>\n",
       "      <td>1</td>\n",
       "      <td>0.64</td>\n",
       "      <td>-4.5</td>\n",
       "      <td>0.0</td>\n",
       "      <td>0.0</td>\n",
       "      <td>0 days 00:02:51</td>\n",
       "    </tr>\n",
       "    <tr>\n",
       "      <th>12946</th>\n",
       "      <td>Patrick Herring</td>\n",
       "      <td>Cash</td>\n",
       "      <td>1</td>\n",
       "      <td>0.17</td>\n",
       "      <td>-120.0</td>\n",
       "      <td>0.0</td>\n",
       "      <td>0.0</td>\n",
       "      <td>0 days 23:15:41</td>\n",
       "    </tr>\n",
       "    <tr>\n",
       "      <th>14716</th>\n",
       "      <td>Stefanie Warner</td>\n",
       "      <td>Debit Card</td>\n",
       "      <td>5</td>\n",
       "      <td>0.40</td>\n",
       "      <td>-4.0</td>\n",
       "      <td>0.0</td>\n",
       "      <td>0.0</td>\n",
       "      <td>0 days 00:03:10</td>\n",
       "    </tr>\n",
       "    <tr>\n",
       "      <th>17604</th>\n",
       "      <td>Tyler Lowe</td>\n",
       "      <td>Cash</td>\n",
       "      <td>1</td>\n",
       "      <td>0.46</td>\n",
       "      <td>-4.0</td>\n",
       "      <td>0.0</td>\n",
       "      <td>0.0</td>\n",
       "      <td>0 days 00:03:36</td>\n",
       "    </tr>\n",
       "    <tr>\n",
       "      <th>18567</th>\n",
       "      <td>Selena Mann</td>\n",
       "      <td>Cash</td>\n",
       "      <td>1</td>\n",
       "      <td>0.10</td>\n",
       "      <td>-3.0</td>\n",
       "      <td>0.0</td>\n",
       "      <td>0.0</td>\n",
       "      <td>0 days 00:01:02</td>\n",
       "    </tr>\n",
       "    <tr>\n",
       "      <th>20319</th>\n",
       "      <td>Tyler Robinson</td>\n",
       "      <td>Debit Card</td>\n",
       "      <td>1</td>\n",
       "      <td>0.24</td>\n",
       "      <td>-3.5</td>\n",
       "      <td>0.0</td>\n",
       "      <td>0.0</td>\n",
       "      <td>0 days 00:02:15</td>\n",
       "    </tr>\n",
       "    <tr>\n",
       "      <th>20700</th>\n",
       "      <td>Nicole Pierce</td>\n",
       "      <td>Cash</td>\n",
       "      <td>1</td>\n",
       "      <td>0.70</td>\n",
       "      <td>-4.5</td>\n",
       "      <td>0.0</td>\n",
       "      <td>0.0</td>\n",
       "      <td>0 days 00:03:48</td>\n",
       "    </tr>\n",
       "  </tbody>\n",
       "</table>\n",
       "</div>"
      ],
      "text/plain": [
       "           passenger_name payment_method  passenger_count  trip_distance  \\\n",
       "316       Tiffany Johnson           Cash                6           0.12   \n",
       "1648        Debbie Holmes    Credit Card                1           0.04   \n",
       "4425         Bobby Wilson           Cash                2           0.06   \n",
       "5450   Alejandro Williams     Debit Card                1           0.25   \n",
       "5760        Samuel Cooper     Debit Card                1           0.02   \n",
       "8206    Stephanie Summers    Credit Card                1           0.41   \n",
       "10283        Donna Larson    Credit Card                2           0.00   \n",
       "11206       Austin Fields     Debit Card                1           0.64   \n",
       "12946     Patrick Herring           Cash                1           0.17   \n",
       "14716     Stefanie Warner     Debit Card                5           0.40   \n",
       "17604          Tyler Lowe           Cash                1           0.46   \n",
       "18567         Selena Mann           Cash                1           0.10   \n",
       "20319      Tyler Robinson     Debit Card                1           0.24   \n",
       "20700       Nicole Pierce           Cash                1           0.70   \n",
       "\n",
       "       fare_amount  tip_amount  tolls_amount time_difference  \n",
       "316           -2.5         0.0           0.0 0 days 00:00:29  \n",
       "1648          -2.5         0.0           0.0 0 days 00:00:37  \n",
       "4425          -3.0         0.0           0.0 0 days 00:01:20  \n",
       "5450          -3.5         0.0           0.0 0 days 00:02:13  \n",
       "5760          -2.5         0.0           0.0 0 days 00:00:16  \n",
       "8206          -3.5         0.0           0.0 0 days 00:02:23  \n",
       "10283         -2.5         0.0           0.0 0 days 00:02:04  \n",
       "11206         -4.5         0.0           0.0 0 days 00:02:51  \n",
       "12946       -120.0         0.0           0.0 0 days 23:15:41  \n",
       "14716         -4.0         0.0           0.0 0 days 00:03:10  \n",
       "17604         -4.0         0.0           0.0 0 days 00:03:36  \n",
       "18567         -3.0         0.0           0.0 0 days 00:01:02  \n",
       "20319         -3.5         0.0           0.0 0 days 00:02:15  \n",
       "20700         -4.5         0.0           0.0 0 days 00:03:48  "
      ]
     },
     "metadata": {},
     "output_type": "display_data"
    }
   ],
   "source": [
    "display(df[df.fare_amount>300])\n",
    "display(df[df.fare_amount<0])"
   ]
  },
  {
   "cell_type": "code",
   "execution_count": 22,
   "id": "8b8e3cf1",
   "metadata": {},
   "outputs": [],
   "source": [
    "df.loc[64,'passenger_count'] = 6 #36명은 max값인 6으로 대체"
   ]
  },
  {
   "cell_type": "code",
   "execution_count": null,
   "id": "333c8a0e",
   "metadata": {},
   "outputs": [],
   "source": []
  },
  {
   "cell_type": "markdown",
   "id": "5c665750",
   "metadata": {},
   "source": [
    "# Debit, Credit 카드로 바꾸기"
   ]
  },
  {
   "cell_type": "code",
   "execution_count": 23,
   "id": "5e93cdd2",
   "metadata": {},
   "outputs": [
    {
     "data": {
      "text/plain": [
       "array(['Debit Card', 'Cash', 'Credit Card'], dtype=object)"
      ]
     },
     "execution_count": 23,
     "metadata": {},
     "output_type": "execute_result"
    }
   ],
   "source": [
    "df['payment_method'].unique()"
   ]
  },
  {
   "cell_type": "code",
   "execution_count": 24,
   "id": "aeac69a3",
   "metadata": {},
   "outputs": [],
   "source": [
    "df['payment_method'] = df['payment_method'].replace({'Credit Card':'Card','Debit Card': 'Card'})"
   ]
  },
  {
   "cell_type": "code",
   "execution_count": 25,
   "id": "6d971643",
   "metadata": {
    "scrolled": true
   },
   "outputs": [
    {
     "data": {
      "text/html": [
       "<div>\n",
       "<style scoped>\n",
       "    .dataframe tbody tr th:only-of-type {\n",
       "        vertical-align: middle;\n",
       "    }\n",
       "\n",
       "    .dataframe tbody tr th {\n",
       "        vertical-align: top;\n",
       "    }\n",
       "\n",
       "    .dataframe thead th {\n",
       "        text-align: right;\n",
       "    }\n",
       "</style>\n",
       "<table border=\"1\" class=\"dataframe\">\n",
       "  <thead>\n",
       "    <tr style=\"text-align: right;\">\n",
       "      <th></th>\n",
       "      <th>passenger_name</th>\n",
       "      <th>payment_method</th>\n",
       "      <th>passenger_count</th>\n",
       "      <th>trip_distance</th>\n",
       "      <th>fare_amount</th>\n",
       "      <th>tip_amount</th>\n",
       "      <th>tolls_amount</th>\n",
       "      <th>time_difference</th>\n",
       "    </tr>\n",
       "  </thead>\n",
       "  <tbody>\n",
       "    <tr>\n",
       "      <th>0</th>\n",
       "      <td>Pamela Duffy</td>\n",
       "      <td>Card</td>\n",
       "      <td>6</td>\n",
       "      <td>3.34</td>\n",
       "      <td>13.0</td>\n",
       "      <td>2.76</td>\n",
       "      <td>0.00</td>\n",
       "      <td>0 days 00:14:04</td>\n",
       "    </tr>\n",
       "    <tr>\n",
       "      <th>1</th>\n",
       "      <td>Michelle Foster</td>\n",
       "      <td>Card</td>\n",
       "      <td>1</td>\n",
       "      <td>1.80</td>\n",
       "      <td>16.0</td>\n",
       "      <td>4.00</td>\n",
       "      <td>0.00</td>\n",
       "      <td>0 days 00:26:30</td>\n",
       "    </tr>\n",
       "    <tr>\n",
       "      <th>2</th>\n",
       "      <td>Tina Combs</td>\n",
       "      <td>Card</td>\n",
       "      <td>1</td>\n",
       "      <td>1.00</td>\n",
       "      <td>6.5</td>\n",
       "      <td>1.45</td>\n",
       "      <td>0.00</td>\n",
       "      <td>0 days 00:07:12</td>\n",
       "    </tr>\n",
       "    <tr>\n",
       "      <th>3</th>\n",
       "      <td>Anthony Ray</td>\n",
       "      <td>Cash</td>\n",
       "      <td>1</td>\n",
       "      <td>3.70</td>\n",
       "      <td>20.5</td>\n",
       "      <td>6.39</td>\n",
       "      <td>0.00</td>\n",
       "      <td>0 days 00:30:15</td>\n",
       "    </tr>\n",
       "    <tr>\n",
       "      <th>4</th>\n",
       "      <td>Brianna Johnson</td>\n",
       "      <td>Card</td>\n",
       "      <td>1</td>\n",
       "      <td>4.37</td>\n",
       "      <td>16.5</td>\n",
       "      <td>0.00</td>\n",
       "      <td>0.00</td>\n",
       "      <td>0 days 00:16:43</td>\n",
       "    </tr>\n",
       "    <tr>\n",
       "      <th>...</th>\n",
       "      <td>...</td>\n",
       "      <td>...</td>\n",
       "      <td>...</td>\n",
       "      <td>...</td>\n",
       "      <td>...</td>\n",
       "      <td>...</td>\n",
       "      <td>...</td>\n",
       "      <td>...</td>\n",
       "    </tr>\n",
       "    <tr>\n",
       "      <th>22696</th>\n",
       "      <td>Austin Johnson</td>\n",
       "      <td>Cash</td>\n",
       "      <td>3</td>\n",
       "      <td>0.61</td>\n",
       "      <td>4.0</td>\n",
       "      <td>0.00</td>\n",
       "      <td>0.00</td>\n",
       "      <td>0 days 00:03:16</td>\n",
       "    </tr>\n",
       "    <tr>\n",
       "      <th>22697</th>\n",
       "      <td>Monique Williams</td>\n",
       "      <td>Cash</td>\n",
       "      <td>1</td>\n",
       "      <td>16.71</td>\n",
       "      <td>52.0</td>\n",
       "      <td>14.64</td>\n",
       "      <td>5.76</td>\n",
       "      <td>0 days 00:40:48</td>\n",
       "    </tr>\n",
       "    <tr>\n",
       "      <th>22698</th>\n",
       "      <td>Drew Graves</td>\n",
       "      <td>Card</td>\n",
       "      <td>1</td>\n",
       "      <td>0.42</td>\n",
       "      <td>4.5</td>\n",
       "      <td>0.00</td>\n",
       "      <td>0.00</td>\n",
       "      <td>0 days 00:04:08</td>\n",
       "    </tr>\n",
       "    <tr>\n",
       "      <th>22699</th>\n",
       "      <td>Jonathan Copeland</td>\n",
       "      <td>Card</td>\n",
       "      <td>1</td>\n",
       "      <td>2.36</td>\n",
       "      <td>10.5</td>\n",
       "      <td>1.70</td>\n",
       "      <td>0.00</td>\n",
       "      <td>0 days 00:11:56</td>\n",
       "    </tr>\n",
       "    <tr>\n",
       "      <th>22700</th>\n",
       "      <td>Benjamin Miller</td>\n",
       "      <td>Cash</td>\n",
       "      <td>1</td>\n",
       "      <td>2.10</td>\n",
       "      <td>11.0</td>\n",
       "      <td>2.35</td>\n",
       "      <td>0.00</td>\n",
       "      <td>0 days 00:13:20</td>\n",
       "    </tr>\n",
       "  </tbody>\n",
       "</table>\n",
       "<p>22699 rows × 8 columns</p>\n",
       "</div>"
      ],
      "text/plain": [
       "          passenger_name payment_method  passenger_count  trip_distance  \\\n",
       "0           Pamela Duffy           Card                6           3.34   \n",
       "1        Michelle Foster           Card                1           1.80   \n",
       "2             Tina Combs           Card                1           1.00   \n",
       "3            Anthony Ray           Cash                1           3.70   \n",
       "4        Brianna Johnson           Card                1           4.37   \n",
       "...                  ...            ...              ...            ...   \n",
       "22696     Austin Johnson           Cash                3           0.61   \n",
       "22697   Monique Williams           Cash                1          16.71   \n",
       "22698        Drew Graves           Card                1           0.42   \n",
       "22699  Jonathan Copeland           Card                1           2.36   \n",
       "22700    Benjamin Miller           Cash                1           2.10   \n",
       "\n",
       "       fare_amount  tip_amount  tolls_amount time_difference  \n",
       "0             13.0        2.76          0.00 0 days 00:14:04  \n",
       "1             16.0        4.00          0.00 0 days 00:26:30  \n",
       "2              6.5        1.45          0.00 0 days 00:07:12  \n",
       "3             20.5        6.39          0.00 0 days 00:30:15  \n",
       "4             16.5        0.00          0.00 0 days 00:16:43  \n",
       "...            ...         ...           ...             ...  \n",
       "22696          4.0        0.00          0.00 0 days 00:03:16  \n",
       "22697         52.0       14.64          5.76 0 days 00:40:48  \n",
       "22698          4.5        0.00          0.00 0 days 00:04:08  \n",
       "22699         10.5        1.70          0.00 0 days 00:11:56  \n",
       "22700         11.0        2.35          0.00 0 days 00:13:20  \n",
       "\n",
       "[22699 rows x 8 columns]"
      ]
     },
     "execution_count": 25,
     "metadata": {},
     "output_type": "execute_result"
    }
   ],
   "source": [
    "df"
   ]
  },
  {
   "cell_type": "markdown",
   "id": "f5c2cb0d",
   "metadata": {},
   "source": [
    "## tip_amount,tolls_amount 랑 fare_amount의 상관관계"
   ]
  },
  {
   "cell_type": "code",
   "execution_count": 26,
   "id": "50d5f941",
   "metadata": {},
   "outputs": [
    {
     "name": "stderr",
     "output_type": "stream",
     "text": [
      "/opt/conda/lib/python3.9/site-packages/seaborn/_decorators.py:36: FutureWarning: Pass the following variables as keyword args: x, y. From version 0.12, the only valid positional argument will be `data`, and passing other arguments without an explicit keyword will result in an error or misinterpretation.\n",
      "  warnings.warn(\n"
     ]
    },
    {
     "data": {
      "text/plain": [
       "<AxesSubplot:xlabel='tip_amount', ylabel='fare_amount'>"
      ]
     },
     "execution_count": 26,
     "metadata": {},
     "output_type": "execute_result"
    },
    {
     "data": {
      "image/png": "[encoded data removed]",
      "text/plain": [
       "<Figure size 432x288 with 1 Axes>"
      ]
     },
     "metadata": {
      "needs_background": "light"
     },
     "output_type": "display_data"
    }
   ],
   "source": [
    "sns.scatterplot(df['tip_amount'],df['fare_amount'])"
   ]
  },
  {
   "cell_type": "code",
   "execution_count": 27,
   "id": "3ff24116",
   "metadata": {},
   "outputs": [
    {
     "name": "stderr",
     "output_type": "stream",
     "text": [
      "/opt/conda/lib/python3.9/site-packages/seaborn/_decorators.py:36: FutureWarning: Pass the following variables as keyword args: x, y. From version 0.12, the only valid positional argument will be `data`, and passing other arguments without an explicit keyword will result in an error or misinterpretation.\n",
      "  warnings.warn(\n"
     ]
    },
    {
     "data": {
      "text/plain": [
       "<AxesSubplot:xlabel='tolls_amount', ylabel='fare_amount'>"
      ]
     },
     "execution_count": 27,
     "metadata": {},
     "output_type": "execute_result"
    },
    {
     "data": {
      "image/png": "[encoded data removed]",
      "text/plain": [
       "<Figure size 432x288 with 1 Axes>"
      ]
     },
     "metadata": {
      "needs_background": "light"
     },
     "output_type": "display_data"
    }
   ],
   "source": [
    "sns.scatterplot(df['tolls_amount'],df['fare_amount'])"
   ]
  },
  {
   "cell_type": "code",
   "execution_count": 28,
   "id": "bbf91eba",
   "metadata": {},
   "outputs": [],
   "source": [
    "df = df[df.fare_amount<400] # fare_amount가 400 이상인 이상치 제거"
   ]
  },
  {
   "cell_type": "code",
   "execution_count": 29,
   "id": "080983fe",
   "metadata": {},
   "outputs": [
    {
     "name": "stderr",
     "output_type": "stream",
     "text": [
      "/opt/conda/lib/python3.9/site-packages/seaborn/_decorators.py:36: FutureWarning: Pass the following variables as keyword args: x, y. From version 0.12, the only valid positional argument will be `data`, and passing other arguments without an explicit keyword will result in an error or misinterpretation.\n",
      "  warnings.warn(\n"
     ]
    },
    {
     "data": {
      "text/plain": [
       "<AxesSubplot:xlabel='tip_amount', ylabel='fare_amount'>"
      ]
     },
     "execution_count": 29,
     "metadata": {},
     "output_type": "execute_result"
    },
    {
     "data": {
      "image/png": "[encoded data removed]",
      "text/plain": [
       "<Figure size 432x288 with 1 Axes>"
      ]
     },
     "metadata": {
      "needs_background": "light"
     },
     "output_type": "display_data"
    }
   ],
   "source": [
    "sns.scatterplot(df['tip_amount'],df['fare_amount'])"
   ]
  },
  {
   "cell_type": "code",
   "execution_count": 30,
   "id": "83a22642",
   "metadata": {},
   "outputs": [
    {
     "name": "stderr",
     "output_type": "stream",
     "text": [
      "/opt/conda/lib/python3.9/site-packages/seaborn/_decorators.py:36: FutureWarning: Pass the following variables as keyword args: x, y. From version 0.12, the only valid positional argument will be `data`, and passing other arguments without an explicit keyword will result in an error or misinterpretation.\n",
      "  warnings.warn(\n"
     ]
    },
    {
     "data": {
      "text/plain": [
       "<AxesSubplot:xlabel='tolls_amount', ylabel='fare_amount'>"
      ]
     },
     "execution_count": 30,
     "metadata": {},
     "output_type": "execute_result"
    },
    {
     "data": {
      "image/png": "[encoded data removed]",
      "text/plain": [
       "<Figure size 432x288 with 1 Axes>"
      ]
     },
     "metadata": {
      "needs_background": "light"
     },
     "output_type": "display_data"
    }
   ],
   "source": [
    "sns.scatterplot(df['tolls_amount'],df['fare_amount'])"
   ]
  },
  {
   "cell_type": "markdown",
   "id": "9cc71f06",
   "metadata": {},
   "source": [
    "## fair_amount와 trip_distance의 상관관계"
   ]
  },
  {
   "cell_type": "code",
   "execution_count": 31,
   "id": "e91ded05",
   "metadata": {},
   "outputs": [
    {
     "name": "stderr",
     "output_type": "stream",
     "text": [
      "/opt/conda/lib/python3.9/site-packages/seaborn/_decorators.py:36: FutureWarning: Pass the following variables as keyword args: x, y. From version 0.12, the only valid positional argument will be `data`, and passing other arguments without an explicit keyword will result in an error or misinterpretation.\n",
      "  warnings.warn(\n"
     ]
    },
    {
     "data": {
      "text/plain": [
       "<AxesSubplot:xlabel='trip_distance', ylabel='fare_amount'>"
      ]
     },
     "execution_count": 31,
     "metadata": {},
     "output_type": "execute_result"
    },
    {
     "data": {
      "image/png": "[encoded data removed]",
      "text/plain": [
       "<Figure size 432x288 with 1 Axes>"
      ]
     },
     "metadata": {
      "needs_background": "light"
     },
     "output_type": "display_data"
    }
   ],
   "source": [
    "sns.scatterplot(df.trip_distance,df.fare_amount)"
   ]
  },
  {
   "cell_type": "markdown",
   "id": "1b77c3f0",
   "metadata": {},
   "source": [
    "trip_distance 와 fare_amount는 어느정도 상관관계를 나타낸다.\n",
    "몇가지 이상치를 나타내는 특징이 나타나는데,\n",
    "\n",
    "- 우선 0, 음수가 존재\n",
    "- 거리가 달라짐에도 50에만 존재하는 fare_amount 존재\n",
    "\n",
    "이 값들에 대해서 파헤쳐보기로 하자"
   ]
  },
  {
   "cell_type": "markdown",
   "id": "8159ae0f",
   "metadata": {},
   "source": [
    "# fare_amount가 0인 값들 처리"
   ]
  },
  {
   "cell_type": "code",
   "execution_count": 32,
   "id": "44f47fd6",
   "metadata": {},
   "outputs": [
    {
     "data": {
      "text/html": [
       "<div>\n",
       "<style scoped>\n",
       "    .dataframe tbody tr th:only-of-type {\n",
       "        vertical-align: middle;\n",
       "    }\n",
       "\n",
       "    .dataframe tbody tr th {\n",
       "        vertical-align: top;\n",
       "    }\n",
       "\n",
       "    .dataframe thead th {\n",
       "        text-align: right;\n",
       "    }\n",
       "</style>\n",
       "<table border=\"1\" class=\"dataframe\">\n",
       "  <thead>\n",
       "    <tr style=\"text-align: right;\">\n",
       "      <th></th>\n",
       "      <th>passenger_name</th>\n",
       "      <th>payment_method</th>\n",
       "      <th>passenger_count</th>\n",
       "      <th>trip_distance</th>\n",
       "      <th>fare_amount</th>\n",
       "      <th>tip_amount</th>\n",
       "      <th>tolls_amount</th>\n",
       "      <th>time_difference</th>\n",
       "    </tr>\n",
       "  </thead>\n",
       "  <tbody>\n",
       "    <tr>\n",
       "      <th>4404</th>\n",
       "      <td>Mrs. Tiffany Brown DDS</td>\n",
       "      <td>Cash</td>\n",
       "      <td>1</td>\n",
       "      <td>7.06</td>\n",
       "      <td>0.0</td>\n",
       "      <td>0.0</td>\n",
       "      <td>0.0</td>\n",
       "      <td>0 days 00:40:57</td>\n",
       "    </tr>\n",
       "    <tr>\n",
       "      <th>5724</th>\n",
       "      <td>William Holland</td>\n",
       "      <td>Card</td>\n",
       "      <td>1</td>\n",
       "      <td>0.00</td>\n",
       "      <td>0.0</td>\n",
       "      <td>0.0</td>\n",
       "      <td>0.0</td>\n",
       "      <td>0 days 00:00:02</td>\n",
       "    </tr>\n",
       "    <tr>\n",
       "      <th>10508</th>\n",
       "      <td>Travis Vega</td>\n",
       "      <td>Card</td>\n",
       "      <td>1</td>\n",
       "      <td>0.00</td>\n",
       "      <td>0.0</td>\n",
       "      <td>0.0</td>\n",
       "      <td>0.0</td>\n",
       "      <td>0 days 00:00:02</td>\n",
       "    </tr>\n",
       "    <tr>\n",
       "      <th>19069</th>\n",
       "      <td>Glenn Garrett</td>\n",
       "      <td>Cash</td>\n",
       "      <td>1</td>\n",
       "      <td>0.10</td>\n",
       "      <td>0.0</td>\n",
       "      <td>0.0</td>\n",
       "      <td>0.0</td>\n",
       "      <td>0 days 00:00:50</td>\n",
       "    </tr>\n",
       "    <tr>\n",
       "      <th>21844</th>\n",
       "      <td>Reginald Baker</td>\n",
       "      <td>Cash</td>\n",
       "      <td>2</td>\n",
       "      <td>20.40</td>\n",
       "      <td>0.0</td>\n",
       "      <td>0.0</td>\n",
       "      <td>12.5</td>\n",
       "      <td>0 days 01:34:15</td>\n",
       "    </tr>\n",
       "    <tr>\n",
       "      <th>22568</th>\n",
       "      <td>Christine Edwards</td>\n",
       "      <td>Card</td>\n",
       "      <td>1</td>\n",
       "      <td>0.00</td>\n",
       "      <td>0.0</td>\n",
       "      <td>0.0</td>\n",
       "      <td>0.0</td>\n",
       "      <td>0 days 00:00:03</td>\n",
       "    </tr>\n",
       "  </tbody>\n",
       "</table>\n",
       "</div>"
      ],
      "text/plain": [
       "               passenger_name payment_method  passenger_count  trip_distance  \\\n",
       "4404   Mrs. Tiffany Brown DDS           Cash                1           7.06   \n",
       "5724          William Holland           Card                1           0.00   \n",
       "10508             Travis Vega           Card                1           0.00   \n",
       "19069           Glenn Garrett           Cash                1           0.10   \n",
       "21844          Reginald Baker           Cash                2          20.40   \n",
       "22568       Christine Edwards           Card                1           0.00   \n",
       "\n",
       "       fare_amount  tip_amount  tolls_amount time_difference  \n",
       "4404           0.0         0.0           0.0 0 days 00:40:57  \n",
       "5724           0.0         0.0           0.0 0 days 00:00:02  \n",
       "10508          0.0         0.0           0.0 0 days 00:00:02  \n",
       "19069          0.0         0.0           0.0 0 days 00:00:50  \n",
       "21844          0.0         0.0          12.5 0 days 01:34:15  \n",
       "22568          0.0         0.0           0.0 0 days 00:00:03  "
      ]
     },
     "metadata": {},
     "output_type": "display_data"
    }
   ],
   "source": [
    "display(df[df['fare_amount']==0])"
   ]
  },
  {
   "cell_type": "markdown",
   "id": "9969db6c",
   "metadata": {},
   "source": [
    "우선 0인 애들을 보자면, trip_distance 가 매우 적거나 애들은 타고내린 시간이 짧은 애들을 제외하고 4404, 21844 번이 이상하다. 이 두개는 trip_distance가 비슷한 애들을 이용해 채워보자"
   ]
  },
  {
   "cell_type": "code",
   "execution_count": 33,
   "id": "0cec1800",
   "metadata": {},
   "outputs": [
    {
     "name": "stderr",
     "output_type": "stream",
     "text": [
      "/opt/conda/lib/python3.9/site-packages/pandas/core/indexing.py:1817: SettingWithCopyWarning: \n",
      "A value is trying to be set on a copy of a slice from a DataFrame.\n",
      "Try using .loc[row_indexer,col_indexer] = value instead\n",
      "\n",
      "See the caveats in the documentation: https://pandas.pydata.org/pandas-docs/stable/user_guide/indexing.html#returning-a-view-versus-a-copy\n",
      "  self._setitem_single_column(loc, value, pi)\n"
     ]
    },
    {
     "data": {
      "text/plain": [
       "passenger_name     Mrs. Tiffany Brown DDS\n",
       "payment_method                       Cash\n",
       "passenger_count                         1\n",
       "trip_distance                        7.06\n",
       "fare_amount                         24.75\n",
       "tip_amount                            0.0\n",
       "tolls_amount                          0.0\n",
       "time_difference           0 days 00:40:57\n",
       "Name: 4404, dtype: object"
      ]
     },
     "execution_count": 33,
     "metadata": {},
     "output_type": "execute_result"
    }
   ],
   "source": [
    "df.loc[4404,'fare_amount'] = df[(df['trip_distance']<7.1)&(df['trip_distance']>7)]['fare_amount'].median()\n",
    "df.loc[4404]"
   ]
  },
  {
   "cell_type": "markdown",
   "id": "2a92077f",
   "metadata": {},
   "source": [
    "# 고쳐야할 것 : df.loc 사용을 조심히 하자"
   ]
  },
  {
   "cell_type": "code",
   "execution_count": 36,
   "id": "ba836f40",
   "metadata": {},
   "outputs": [
    {
     "name": "stderr",
     "output_type": "stream",
     "text": [
      "/opt/conda/lib/python3.9/site-packages/pandas/core/indexing.py:1817: SettingWithCopyWarning: \n",
      "A value is trying to be set on a copy of a slice from a DataFrame.\n",
      "Try using .loc[row_indexer,col_indexer] = value instead\n",
      "\n",
      "See the caveats in the documentation: https://pandas.pydata.org/pandas-docs/stable/user_guide/indexing.html#returning-a-view-versus-a-copy\n",
      "  self._setitem_single_column(loc, value, pi)\n"
     ]
    },
    {
     "data": {
      "text/plain": [
       "passenger_name      Reginald Baker\n",
       "payment_method                Cash\n",
       "passenger_count                  2\n",
       "trip_distance                 20.4\n",
       "fare_amount                   52.0\n",
       "tip_amount                     0.0\n",
       "tolls_amount                  12.5\n",
       "time_difference    0 days 01:34:15\n",
       "Name: 21844, dtype: object"
      ]
     },
     "execution_count": 36,
     "metadata": {},
     "output_type": "execute_result"
    }
   ],
   "source": [
    "df.loc[21844,'fare_amount'] = df[(df['trip_distance']<20.1)&(df['trip_distance']>20)]['fare_amount'].median()\n",
    "df.loc[21844]"
   ]
  },
  {
   "cell_type": "markdown",
   "id": "a705b14a",
   "metadata": {},
   "source": [
    "# fare_amount가 음수"
   ]
  },
  {
   "cell_type": "code",
   "execution_count": 38,
   "id": "b0cd9e6a",
   "metadata": {},
   "outputs": [
    {
     "name": "stderr",
     "output_type": "stream",
     "text": [
      "/opt/conda/lib/python3.9/site-packages/seaborn/_decorators.py:36: FutureWarning: Pass the following variables as keyword args: x, y. From version 0.12, the only valid positional argument will be `data`, and passing other arguments without an explicit keyword will result in an error or misinterpretation.\n",
      "  warnings.warn(\n"
     ]
    },
    {
     "data": {
      "text/plain": [
       "<AxesSubplot:xlabel='trip_distance', ylabel='fare_amount'>"
      ]
     },
     "execution_count": 38,
     "metadata": {},
     "output_type": "execute_result"
    },
    {
     "data": {
      "image/png": "[encoded data removed]",
      "text/plain": [
       "<Figure size 432x288 with 1 Axes>"
      ]
     },
     "metadata": {
      "needs_background": "light"
     },
     "output_type": "display_data"
    }
   ],
   "source": [
    "sns.scatterplot(df.trip_distance,df.fare_amount)"
   ]
  },
  {
   "cell_type": "code",
   "execution_count": 37,
   "id": "b849870a",
   "metadata": {},
   "outputs": [
    {
     "data": {
      "text/html": [
       "<div>\n",
       "<style scoped>\n",
       "    .dataframe tbody tr th:only-of-type {\n",
       "        vertical-align: middle;\n",
       "    }\n",
       "\n",
       "    .dataframe tbody tr th {\n",
       "        vertical-align: top;\n",
       "    }\n",
       "\n",
       "    .dataframe thead th {\n",
       "        text-align: right;\n",
       "    }\n",
       "</style>\n",
       "<table border=\"1\" class=\"dataframe\">\n",
       "  <thead>\n",
       "    <tr style=\"text-align: right;\">\n",
       "      <th></th>\n",
       "      <th>passenger_name</th>\n",
       "      <th>payment_method</th>\n",
       "      <th>passenger_count</th>\n",
       "      <th>trip_distance</th>\n",
       "      <th>fare_amount</th>\n",
       "      <th>tip_amount</th>\n",
       "      <th>tolls_amount</th>\n",
       "      <th>time_difference</th>\n",
       "    </tr>\n",
       "  </thead>\n",
       "  <tbody>\n",
       "    <tr>\n",
       "      <th>316</th>\n",
       "      <td>Tiffany Johnson</td>\n",
       "      <td>Cash</td>\n",
       "      <td>6</td>\n",
       "      <td>0.12</td>\n",
       "      <td>-2.5</td>\n",
       "      <td>0.0</td>\n",
       "      <td>0.0</td>\n",
       "      <td>0 days 00:00:29</td>\n",
       "    </tr>\n",
       "    <tr>\n",
       "      <th>1648</th>\n",
       "      <td>Debbie Holmes</td>\n",
       "      <td>Card</td>\n",
       "      <td>1</td>\n",
       "      <td>0.04</td>\n",
       "      <td>-2.5</td>\n",
       "      <td>0.0</td>\n",
       "      <td>0.0</td>\n",
       "      <td>0 days 00:00:37</td>\n",
       "    </tr>\n",
       "    <tr>\n",
       "      <th>4425</th>\n",
       "      <td>Bobby Wilson</td>\n",
       "      <td>Cash</td>\n",
       "      <td>2</td>\n",
       "      <td>0.06</td>\n",
       "      <td>-3.0</td>\n",
       "      <td>0.0</td>\n",
       "      <td>0.0</td>\n",
       "      <td>0 days 00:01:20</td>\n",
       "    </tr>\n",
       "    <tr>\n",
       "      <th>5450</th>\n",
       "      <td>Alejandro Williams</td>\n",
       "      <td>Card</td>\n",
       "      <td>1</td>\n",
       "      <td>0.25</td>\n",
       "      <td>-3.5</td>\n",
       "      <td>0.0</td>\n",
       "      <td>0.0</td>\n",
       "      <td>0 days 00:02:13</td>\n",
       "    </tr>\n",
       "    <tr>\n",
       "      <th>5760</th>\n",
       "      <td>Samuel Cooper</td>\n",
       "      <td>Card</td>\n",
       "      <td>1</td>\n",
       "      <td>0.02</td>\n",
       "      <td>-2.5</td>\n",
       "      <td>0.0</td>\n",
       "      <td>0.0</td>\n",
       "      <td>0 days 00:00:16</td>\n",
       "    </tr>\n",
       "    <tr>\n",
       "      <th>8206</th>\n",
       "      <td>Stephanie Summers</td>\n",
       "      <td>Card</td>\n",
       "      <td>1</td>\n",
       "      <td>0.41</td>\n",
       "      <td>-3.5</td>\n",
       "      <td>0.0</td>\n",
       "      <td>0.0</td>\n",
       "      <td>0 days 00:02:23</td>\n",
       "    </tr>\n",
       "    <tr>\n",
       "      <th>10283</th>\n",
       "      <td>Donna Larson</td>\n",
       "      <td>Card</td>\n",
       "      <td>2</td>\n",
       "      <td>0.00</td>\n",
       "      <td>-2.5</td>\n",
       "      <td>0.0</td>\n",
       "      <td>0.0</td>\n",
       "      <td>0 days 00:02:04</td>\n",
       "    </tr>\n",
       "    <tr>\n",
       "      <th>11206</th>\n",
       "      <td>Austin Fields</td>\n",
       "      <td>Card</td>\n",
       "      <td>1</td>\n",
       "      <td>0.64</td>\n",
       "      <td>-4.5</td>\n",
       "      <td>0.0</td>\n",
       "      <td>0.0</td>\n",
       "      <td>0 days 00:02:51</td>\n",
       "    </tr>\n",
       "    <tr>\n",
       "      <th>12946</th>\n",
       "      <td>Patrick Herring</td>\n",
       "      <td>Cash</td>\n",
       "      <td>1</td>\n",
       "      <td>0.17</td>\n",
       "      <td>-120.0</td>\n",
       "      <td>0.0</td>\n",
       "      <td>0.0</td>\n",
       "      <td>0 days 23:15:41</td>\n",
       "    </tr>\n",
       "    <tr>\n",
       "      <th>14716</th>\n",
       "      <td>Stefanie Warner</td>\n",
       "      <td>Card</td>\n",
       "      <td>5</td>\n",
       "      <td>0.40</td>\n",
       "      <td>-4.0</td>\n",
       "      <td>0.0</td>\n",
       "      <td>0.0</td>\n",
       "      <td>0 days 00:03:10</td>\n",
       "    </tr>\n",
       "    <tr>\n",
       "      <th>17604</th>\n",
       "      <td>Tyler Lowe</td>\n",
       "      <td>Cash</td>\n",
       "      <td>1</td>\n",
       "      <td>0.46</td>\n",
       "      <td>-4.0</td>\n",
       "      <td>0.0</td>\n",
       "      <td>0.0</td>\n",
       "      <td>0 days 00:03:36</td>\n",
       "    </tr>\n",
       "    <tr>\n",
       "      <th>18567</th>\n",
       "      <td>Selena Mann</td>\n",
       "      <td>Cash</td>\n",
       "      <td>1</td>\n",
       "      <td>0.10</td>\n",
       "      <td>-3.0</td>\n",
       "      <td>0.0</td>\n",
       "      <td>0.0</td>\n",
       "      <td>0 days 00:01:02</td>\n",
       "    </tr>\n",
       "    <tr>\n",
       "      <th>20319</th>\n",
       "      <td>Tyler Robinson</td>\n",
       "      <td>Card</td>\n",
       "      <td>1</td>\n",
       "      <td>0.24</td>\n",
       "      <td>-3.5</td>\n",
       "      <td>0.0</td>\n",
       "      <td>0.0</td>\n",
       "      <td>0 days 00:02:15</td>\n",
       "    </tr>\n",
       "    <tr>\n",
       "      <th>20700</th>\n",
       "      <td>Nicole Pierce</td>\n",
       "      <td>Cash</td>\n",
       "      <td>1</td>\n",
       "      <td>0.70</td>\n",
       "      <td>-4.5</td>\n",
       "      <td>0.0</td>\n",
       "      <td>0.0</td>\n",
       "      <td>0 days 00:03:48</td>\n",
       "    </tr>\n",
       "  </tbody>\n",
       "</table>\n",
       "</div>"
      ],
      "text/plain": [
       "           passenger_name payment_method  passenger_count  trip_distance  \\\n",
       "316       Tiffany Johnson           Cash                6           0.12   \n",
       "1648        Debbie Holmes           Card                1           0.04   \n",
       "4425         Bobby Wilson           Cash                2           0.06   \n",
       "5450   Alejandro Williams           Card                1           0.25   \n",
       "5760        Samuel Cooper           Card                1           0.02   \n",
       "8206    Stephanie Summers           Card                1           0.41   \n",
       "10283        Donna Larson           Card                2           0.00   \n",
       "11206       Austin Fields           Card                1           0.64   \n",
       "12946     Patrick Herring           Cash                1           0.17   \n",
       "14716     Stefanie Warner           Card                5           0.40   \n",
       "17604          Tyler Lowe           Cash                1           0.46   \n",
       "18567         Selena Mann           Cash                1           0.10   \n",
       "20319      Tyler Robinson           Card                1           0.24   \n",
       "20700       Nicole Pierce           Cash                1           0.70   \n",
       "\n",
       "       fare_amount  tip_amount  tolls_amount time_difference  \n",
       "316           -2.5         0.0           0.0 0 days 00:00:29  \n",
       "1648          -2.5         0.0           0.0 0 days 00:00:37  \n",
       "4425          -3.0         0.0           0.0 0 days 00:01:20  \n",
       "5450          -3.5         0.0           0.0 0 days 00:02:13  \n",
       "5760          -2.5         0.0           0.0 0 days 00:00:16  \n",
       "8206          -3.5         0.0           0.0 0 days 00:02:23  \n",
       "10283         -2.5         0.0           0.0 0 days 00:02:04  \n",
       "11206         -4.5         0.0           0.0 0 days 00:02:51  \n",
       "12946       -120.0         0.0           0.0 0 days 23:15:41  \n",
       "14716         -4.0         0.0           0.0 0 days 00:03:10  \n",
       "17604         -4.0         0.0           0.0 0 days 00:03:36  \n",
       "18567         -3.0         0.0           0.0 0 days 00:01:02  \n",
       "20319         -3.5         0.0           0.0 0 days 00:02:15  \n",
       "20700         -4.5         0.0           0.0 0 days 00:03:48  "
      ]
     },
     "metadata": {},
     "output_type": "display_data"
    }
   ],
   "source": [
    "display(df[df['fare_amount']<0])"
   ]
  },
  {
   "cell_type": "code",
   "execution_count": 40,
   "id": "2f22738a",
   "metadata": {},
   "outputs": [],
   "source": [
    "df = df.drop(index=12946) #12946은 제거"
   ]
  },
  {
   "cell_type": "code",
   "execution_count": 45,
   "id": "cdfe4e7c",
   "metadata": {},
   "outputs": [],
   "source": [
    "df_plus = df[df['fare_amount']>=0] # 시간관계상 음수는 나중에"
   ]
  },
  {
   "cell_type": "code",
   "execution_count": 46,
   "id": "634a02a4",
   "metadata": {},
   "outputs": [
    {
     "name": "stderr",
     "output_type": "stream",
     "text": [
      "/opt/conda/lib/python3.9/site-packages/seaborn/_decorators.py:36: FutureWarning: Pass the following variables as keyword args: x, y. From version 0.12, the only valid positional argument will be `data`, and passing other arguments without an explicit keyword will result in an error or misinterpretation.\n",
      "  warnings.warn(\n"
     ]
    },
    {
     "data": {
      "text/plain": [
       "<AxesSubplot:xlabel='trip_distance', ylabel='fare_amount'>"
      ]
     },
     "execution_count": 46,
     "metadata": {},
     "output_type": "execute_result"
    },
    {
     "data": {
      "image/png": "[encoded data removed]",
      "text/plain": [
       "<Figure size 432x288 with 1 Axes>"
      ]
     },
     "metadata": {
      "needs_background": "light"
     },
     "output_type": "display_data"
    }
   ],
   "source": [
    "sns.scatterplot(df_plus.trip_distance,df_plus.fare_amount)"
   ]
  },
  {
   "cell_type": "code",
   "execution_count": 51,
   "id": "ae02e7a3",
   "metadata": {},
   "outputs": [
    {
     "name": "stderr",
     "output_type": "stream",
     "text": [
      "/opt/conda/lib/python3.9/site-packages/seaborn/_decorators.py:36: FutureWarning: Pass the following variables as keyword args: x, y. From version 0.12, the only valid positional argument will be `data`, and passing other arguments without an explicit keyword will result in an error or misinterpretation.\n",
      "  warnings.warn(\n"
     ]
    },
    {
     "data": {
      "text/plain": [
       "<AxesSubplot:xlabel='time_difference', ylabel='fare_amount'>"
      ]
     },
     "execution_count": 51,
     "metadata": {},
     "output_type": "execute_result"
    },
    {
     "data": {
      "image/png": "[encoded data removed]",
      "text/plain": [
       "<Figure size 432x288 with 1 Axes>"
      ]
     },
     "metadata": {
      "needs_background": "light"
     },
     "output_type": "display_data"
    }
   ],
   "source": [
    "sns.scatterplot(df_plus.time_difference.apply(lambda x: x.total_seconds()),df_plus.fare_amount)"
   ]
  },
  {
   "cell_type": "code",
   "execution_count": 55,
   "id": "29d18ba1",
   "metadata": {},
   "outputs": [],
   "source": [
    "df_time = df_plus[df_plus.time_difference.apply(lambda x: x.total_seconds())<9000]"
   ]
  },
  {
   "cell_type": "code",
   "execution_count": 56,
   "id": "e2205c7c",
   "metadata": {},
   "outputs": [
    {
     "name": "stderr",
     "output_type": "stream",
     "text": [
      "/opt/conda/lib/python3.9/site-packages/seaborn/_decorators.py:36: FutureWarning: Pass the following variables as keyword args: x, y. From version 0.12, the only valid positional argument will be `data`, and passing other arguments without an explicit keyword will result in an error or misinterpretation.\n",
      "  warnings.warn(\n"
     ]
    },
    {
     "data": {
      "text/plain": [
       "<AxesSubplot:xlabel='time_difference', ylabel='fare_amount'>"
      ]
     },
     "execution_count": 56,
     "metadata": {},
     "output_type": "execute_result"
    },
    {
     "data": {
      "image/png": "[encoded data removed]",
      "text/plain": [
       "<Figure size 432x288 with 1 Axes>"
      ]
     },
     "metadata": {
      "needs_background": "light"
     },
     "output_type": "display_data"
    }
   ],
   "source": [
    "sns.scatterplot(df_time.time_difference.apply(lambda x: x.total_seconds()),df_plus.fare_amount)"
   ]
  },
  {
   "cell_type": "markdown",
   "id": "e8f6b6bc",
   "metadata": {},
   "source": [
    "시간에 의한 이상치 제거시 46개정도 제거됨. 아직도 50 언저리에 직선이 이상치로 보임. 또한, time difference가 0 주변의 애들중 fare_amount가 놓은 애들이 많이 나타남\n",
    "\n",
    "시간을 고려하지 않는 방향도 모색할 수 있을 것 같음"
   ]
  },
  {
   "cell_type": "code",
   "execution_count": 59,
   "id": "0566ebbb",
   "metadata": {},
   "outputs": [
    {
     "name": "stderr",
     "output_type": "stream",
     "text": [
      "/opt/conda/lib/python3.9/site-packages/seaborn/_decorators.py:36: FutureWarning: Pass the following variables as keyword args: x, y. From version 0.12, the only valid positional argument will be `data`, and passing other arguments without an explicit keyword will result in an error or misinterpretation.\n",
      "  warnings.warn(\n"
     ]
    },
    {
     "data": {
      "text/plain": [
       "<AxesSubplot:xlabel='trip_distance', ylabel='fare_amount'>"
      ]
     },
     "execution_count": 59,
     "metadata": {},
     "output_type": "execute_result"
    },
    {
     "data": {
      "image/png": "[encoded data removed]",
      "text/plain": [
       "<Figure size 432x288 with 1 Axes>"
      ]
     },
     "metadata": {
      "needs_background": "light"
     },
     "output_type": "display_data"
    }
   ],
   "source": [
    "sns.scatterplot(df_time.trip_distance,df_time.fare_amount)"
   ]
  },
  {
   "cell_type": "code",
   "execution_count": 66,
   "id": "21566cc0",
   "metadata": {},
   "outputs": [],
   "source": [
    "df_trip = df_time[df_time.trip_distance<5]\n",
    "Q1,Q3 = np.percentile(df_trip[\"fare_amount\"],[25,75])\n",
    "IQR = Q3-Q1\n",
    "lower_bound = Q1 - 1.5 * IQR\n",
    "upper_bound = Q3 + 1.5 * IQR\n",
    "outliers = df_trip[(df_trip[\"fare_amount\"] < lower_bound) | (df_trip[\"fare_amount\"] > upper_bound)]"
   ]
  },
  {
   "cell_type": "code",
   "execution_count": 71,
   "id": "1ed7c5f0",
   "metadata": {},
   "outputs": [
    {
     "name": "stderr",
     "output_type": "stream",
     "text": [
      "/opt/conda/lib/python3.9/site-packages/pandas/core/frame.py:4906: SettingWithCopyWarning: \n",
      "A value is trying to be set on a copy of a slice from a DataFrame\n",
      "\n",
      "See the caveats in the documentation: https://pandas.pydata.org/pandas-docs/stable/user_guide/indexing.html#returning-a-view-versus-a-copy\n",
      "  return super().drop(\n"
     ]
    }
   ],
   "source": [
    "df_time.drop(outliers.index,inplace=True)"
   ]
  },
  {
   "cell_type": "code",
   "execution_count": 72,
   "id": "fbb5bc00",
   "metadata": {},
   "outputs": [
    {
     "name": "stderr",
     "output_type": "stream",
     "text": [
      "/opt/conda/lib/python3.9/site-packages/seaborn/_decorators.py:36: FutureWarning: Pass the following variables as keyword args: x, y. From version 0.12, the only valid positional argument will be `data`, and passing other arguments without an explicit keyword will result in an error or misinterpretation.\n",
      "  warnings.warn(\n"
     ]
    },
    {
     "data": {
      "text/plain": [
       "<AxesSubplot:xlabel='trip_distance', ylabel='fare_amount'>"
      ]
     },
     "execution_count": 72,
     "metadata": {},
     "output_type": "execute_result"
    },
    {
     "data": {
      "image/png": "[encoded data removed]",
      "text/plain": [
       "<Figure size 432x288 with 1 Axes>"
      ]
     },
     "metadata": {
      "needs_background": "light"
     },
     "output_type": "display_data"
    }
   ],
   "source": [
    "sns.scatterplot(df_time.trip_distance,df_time.fare_amount)"
   ]
  },
  {
   "cell_type": "code",
   "execution_count": 73,
   "id": "19d0aa58",
   "metadata": {},
   "outputs": [
    {
     "name": "stdout",
     "output_type": "stream",
     "text": [
      "22701\n",
      "22294\n"
     ]
    }
   ],
   "source": [
    "print(len(original_data))\n",
    "print(len(df_time))"
   ]
  },
  {
   "cell_type": "markdown",
   "id": "523cc66a",
   "metadata": {},
   "source": [
    "## Fair_amount 가 이상한 범위내 이상치 탐지"
   ]
  },
  {
   "cell_type": "code",
   "execution_count": 78,
   "id": "efd65d60",
   "metadata": {},
   "outputs": [],
   "source": [
    "df_fair = df_time[(df_time.fare_amount<75)&(df_time.fare_amount>25)]\n",
    "Q1,Q3 = np.percentile(df_fair[\"trip_distance\"],[25,75])\n",
    "IQR = Q3-Q1\n",
    "lower_bound = Q1 - 1.5 * IQR\n",
    "upper_bound = Q3 + 1.5 * IQR\n",
    "outliers = df_fair[(df_fair[\"trip_distance\"] < lower_bound) | (df_fair[\"trip_distance\"] > upper_bound)]"
   ]
  },
  {
   "cell_type": "code",
   "execution_count": 80,
   "id": "95f6304d",
   "metadata": {},
   "outputs": [
    {
     "name": "stderr",
     "output_type": "stream",
     "text": [
      "/opt/conda/lib/python3.9/site-packages/pandas/core/frame.py:4906: SettingWithCopyWarning: \n",
      "A value is trying to be set on a copy of a slice from a DataFrame\n",
      "\n",
      "See the caveats in the documentation: https://pandas.pydata.org/pandas-docs/stable/user_guide/indexing.html#returning-a-view-versus-a-copy\n",
      "  return super().drop(\n"
     ]
    }
   ],
   "source": [
    "df_time.drop(outliers.index,inplace=True)"
   ]
  },
  {
   "cell_type": "code",
   "execution_count": 81,
   "id": "61f48442",
   "metadata": {},
   "outputs": [
    {
     "name": "stderr",
     "output_type": "stream",
     "text": [
      "/opt/conda/lib/python3.9/site-packages/seaborn/_decorators.py:36: FutureWarning: Pass the following variables as keyword args: x, y. From version 0.12, the only valid positional argument will be `data`, and passing other arguments without an explicit keyword will result in an error or misinterpretation.\n",
      "  warnings.warn(\n"
     ]
    },
    {
     "data": {
      "text/plain": [
       "<AxesSubplot:xlabel='trip_distance', ylabel='fare_amount'>"
      ]
     },
     "execution_count": 81,
     "metadata": {},
     "output_type": "execute_result"
    },
    {
     "data": {
      "image/png": "[encoded data removed]",
      "text/plain": [
       "<Figure size 432x288 with 1 Axes>"
      ]
     },
     "metadata": {
      "needs_background": "light"
     },
     "output_type": "display_data"
    }
   ],
   "source": [
    "sns.scatterplot(df_time.trip_distance,df_time.fare_amount)"
   ]
  },
  {
   "cell_type": "code",
   "execution_count": 82,
   "id": "b4825057",
   "metadata": {},
   "outputs": [],
   "source": [
    "df_fair = df_time[(df_time.fare_amount<25)]\n",
    "Q1,Q3 = np.percentile(df_fair[\"trip_distance\"],[25,75])\n",
    "IQR = Q3-Q1\n",
    "lower_bound = Q1 - 1.5 * IQR\n",
    "upper_bound = Q3 + 1.5 * IQR\n",
    "outliers = df_fair[(df_fair[\"trip_distance\"] < lower_bound) | (df_fair[\"trip_distance\"] > upper_bound)]"
   ]
  },
  {
   "cell_type": "code",
   "execution_count": 83,
   "id": "30228544",
   "metadata": {},
   "outputs": [
    {
     "name": "stderr",
     "output_type": "stream",
     "text": [
      "/opt/conda/lib/python3.9/site-packages/pandas/core/frame.py:4906: SettingWithCopyWarning: \n",
      "A value is trying to be set on a copy of a slice from a DataFrame\n",
      "\n",
      "See the caveats in the documentation: https://pandas.pydata.org/pandas-docs/stable/user_guide/indexing.html#returning-a-view-versus-a-copy\n",
      "  return super().drop(\n"
     ]
    }
   ],
   "source": [
    "df_time.drop(outliers.index,inplace=True)"
   ]
  },
  {
   "cell_type": "code",
   "execution_count": 84,
   "id": "bf086586",
   "metadata": {},
   "outputs": [
    {
     "name": "stderr",
     "output_type": "stream",
     "text": [
      "/opt/conda/lib/python3.9/site-packages/seaborn/_decorators.py:36: FutureWarning: Pass the following variables as keyword args: x, y. From version 0.12, the only valid positional argument will be `data`, and passing other arguments without an explicit keyword will result in an error or misinterpretation.\n",
      "  warnings.warn(\n"
     ]
    },
    {
     "data": {
      "text/plain": [
       "<AxesSubplot:xlabel='trip_distance', ylabel='fare_amount'>"
      ]
     },
     "execution_count": 84,
     "metadata": {},
     "output_type": "execute_result"
    },
    {
     "data": {
      "image/png": "[encoded data removed]",
      "text/plain": [
       "<Figure size 432x288 with 1 Axes>"
      ]
     },
     "metadata": {
      "needs_background": "light"
     },
     "output_type": "display_data"
    }
   ],
   "source": [
    "sns.scatterplot(df_time.trip_distance,df_time.fare_amount)"
   ]
  },
  {
   "cell_type": "markdown",
   "id": "53052c56",
   "metadata": {},
   "source": [
    "# 회고\n",
    "\n",
    "오늘 data preprocessing을 진행해보았다. 우선 잘한점은, 스토리를 구성해서, 실수하더라도 금방 다시 돌아올 수 있었다. 어려웠던 점은 서로 연관이 있는 feature들이 있는 가운데 이상치가 각자 다 존재해서 다각도에서 접근해야한다는 점이 매우 까다로웠다. 이대로 지우기만 한다면, 데이터가 얼마 남지 않을 것 같았다. 하지만, 모든 것을 범위에 맞게 집어넣기란 매우 까다로웠고, 결과적으로 모든 이상치를 제거 하지는 못했다. 특히 시간차를 이용해서 아웃라이어를 잡아내려고 했는데, 하고보니 시간치에 이상치가 많아 오히려 독이 되었던 것 같다. 시간이 허락한다면, 여러 계획을 세워 다각도로 접근하면 좋을 것 같다. 특히 협업을 할 때, 이런 부분에 대해서 소통하고, 각자 어떤 계획을 맡아서 할지 정한 다음 data preprocessing을 진행해봐도 좋을 것 같다."
   ]
  },
  {
   "cell_type": "code",
   "execution_count": null,
   "id": "5bf6fd7a",
   "metadata": {},
   "outputs": [],
   "source": []
  }
 ],
 "metadata": {
  "kernelspec": {
   "display_name": "Python 3 (ipykernel)",
   "language": "python",
   "name": "python3"
  },
  "language_info": {
   "codemirror_mode": {
    "name": "ipython",
    "version": 3
   },
   "file_extension": ".py",
   "mimetype": "text/x-python",
   "name": "python",
   "nbconvert_exporter": "python",
   "pygments_lexer": "ipython3",
   "version": "3.9.7"
  }
 },
 "nbformat": 4,
 "nbformat_minor": 5
}
